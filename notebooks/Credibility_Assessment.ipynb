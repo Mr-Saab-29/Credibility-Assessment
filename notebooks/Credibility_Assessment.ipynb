{
  "nbformat": 4,
  "nbformat_minor": 0,
  "metadata": {
    "colab": {
      "provenance": []
    },
    "kernelspec": {
      "name": "python3",
      "display_name": "Python 3"
    },
    "language_info": {
      "name": "python"
    }
  },
  "cells": [
    {
      "cell_type": "code",
      "source": [
        "import pandas as pd\n",
        "import numpy as np\n",
        "import matplotlib.pyplot as plt\n",
        "import seaborn as sns\n",
        "import scipy.stats as stats\n",
        "import plotly.express as px\n",
        "from sklearn.preprocessing import StandardScaler\n",
        "import statsmodels.api as sm\n",
        "from ydata_profiling import ProfileReport\n",
        "import json"
      ],
      "metadata": {
        "id": "5lIfRhc8rnqh"
      },
      "execution_count": 1,
      "outputs": []
    },
    {
      "cell_type": "code",
      "source": [
        "from google.colab import drive\n",
        "drive.mount('/content/drive')"
      ],
      "metadata": {
        "id": "tGfxVbxqsnLz",
        "colab": {
          "base_uri": "https://localhost:8080/"
        },
        "outputId": "58b510ad-427f-44de-a23b-e2b3eab426d6"
      },
      "execution_count": 2,
      "outputs": [
        {
          "output_type": "stream",
          "name": "stdout",
          "text": [
            "Drive already mounted at /content/drive; to attempt to forcibly remount, call drive.mount(\"/content/drive\", force_remount=True).\n"
          ]
        }
      ]
    },
    {
      "cell_type": "markdown",
      "source": [
        "Sampling the data from the dataset ( Since it is too large)"
      ],
      "metadata": {
        "id": "cWq2NVDkeblY"
      }
    },
    {
      "cell_type": "code",
      "source": [
        "import json\n",
        "import csv\n",
        "import random"
      ],
      "metadata": {
        "id": "kQmhINlPbLMy"
      },
      "execution_count": 3,
      "outputs": []
    },
    {
      "cell_type": "code",
      "source": [
        "def sample_and_convert_to_csv(json_file, csv_file, sample_size):\n",
        "    random.seed(42)\n",
        "    # Open the JSON file and load the data\n",
        "    sampled_data = []\n",
        "    with open(json_file, 'r') as f:\n",
        "        for line in f:\n",
        "            try:\n",
        "                data = json.loads(line)\n",
        "                sampled_data.append(data)\n",
        "            except json.JSONDecodeError:\n",
        "                print(\"Error: Invalid JSON format in line:\", line)\n",
        "\n",
        "    # Randomly sample the data\n",
        "    sampled_data = random.sample(sampled_data, min(sample_size, len(sampled_data)))\n",
        "\n",
        "    # Open the CSV file in write mode\n",
        "    with open(csv_file, 'w', newline='') as f:\n",
        "        # Create a CSV writer object\n",
        "        writer = csv.writer(f)\n",
        "\n",
        "        # Write the header row based on the keys of the first JSON object\n",
        "        if sampled_data:\n",
        "            writer.writerow(sampled_data[0].keys())\n",
        "\n",
        "        # Write the sampled data rows\n",
        "        for item in sampled_data:\n",
        "            writer.writerow(item.values())\n"
      ],
      "metadata": {
        "id": "2nWPzmBEcDI6"
      },
      "execution_count": 4,
      "outputs": []
    },
    {
      "cell_type": "code",
      "source": [
        "json_file = '/content/drive/MyDrive/Video_Games.jsonl'\n",
        "csv_file = 'sampled_output.csv'\n",
        "sample_size = 250  # Deciding sample size\n",
        "sample_and_convert_to_csv(json_file, csv_file, sample_size)"
      ],
      "metadata": {
        "id": "axaIy1a4cKVc"
      },
      "execution_count": 5,
      "outputs": []
    },
    {
      "cell_type": "markdown",
      "source": [
        "Working with the CSV file"
      ],
      "metadata": {
        "id": "62YCx6Fteir5"
      }
    },
    {
      "cell_type": "code",
      "source": [
        "fp = '/content/sampled_output.csv'"
      ],
      "metadata": {
        "id": "97HlQ4UkeiQd"
      },
      "execution_count": 6,
      "outputs": []
    },
    {
      "cell_type": "code",
      "source": [
        "df = pd.read_csv(fp)"
      ],
      "metadata": {
        "id": "5kLHtiTMe4h9"
      },
      "execution_count": 7,
      "outputs": []
    },
    {
      "cell_type": "code",
      "source": [
        "df.head(15)"
      ],
      "metadata": {
        "colab": {
          "base_uri": "https://localhost:8080/",
          "height": 1000
        },
        "id": "MboPk127fAvW",
        "outputId": "737c5339-92dc-4ed4-a3ee-868ca00788c4"
      },
      "execution_count": 8,
      "outputs": [
        {
          "output_type": "execute_result",
          "data": {
            "text/plain": [
              "    rating                                              title  \\\n",
              "0      1.0                           Worthless Piece of trash   \n",
              "1      5.0                                         Five Stars   \n",
              "2      5.0               Muramasa Rebirth: Definitive Edition   \n",
              "3      4.0                                         Works well   \n",
              "4      5.0                                    your kidding me   \n",
              "5      5.0                                            Love it   \n",
              "6      5.0                         Had no problems installing   \n",
              "7      5.0                                 Great thumbsticks!   \n",
              "8      5.0                                     Quick and Easy   \n",
              "9      5.0  This is the perfect case for the Nintendo Swit...   \n",
              "10     5.0      Buy this great affordable product 2 batteries   \n",
              "11     5.0                                          Excellent   \n",
              "12     5.0                         Best Two-Player Game Ever!   \n",
              "13     5.0  Thank you, Civilization creator, for keeping m...   \n",
              "14     3.0                                Belt NOT included!!   \n",
              "\n",
              "                                                 text  \\\n",
              "0   This controller does not work with rechargeabl...   \n",
              "1   OMG this game is so bad ass, I am 36 hours int...   \n",
              "2   Never heard of this game until it was released...   \n",
              "3   I bought this for two Nintendo Switch Pro Cont...   \n",
              "4   My review is for the actual XBOX not the perso...   \n",
              "5                     I'm very happy with my purchase   \n",
              "6   Was able to install the fan unit on the backsi...   \n",
              "7   Awesome, easy to install, look great and feel ...   \n",
              "8                                                       \n",
              "9   No dislikes and red is his favorite color. Per...   \n",
              "10  Great product saved me money works just great ...   \n",
              "11                                    Excellent saga.   \n",
              "12  This game is so much fun.  I bought this game ...   \n",
              "13  I was slightly wary of this game, as my last v...   \n",
              "14  Game is great.  The pic shows it comes with th...   \n",
              "\n",
              "                                               images        asin parent_asin  \\\n",
              "0                                                  []  B01MT1G98H  B01MT1G98H   \n",
              "1                                                  []  B00CJ7IUI6  B07YBXFDYN   \n",
              "2                                                  []  B00B7ELWAU  B00B7ELWAU   \n",
              "3                                                  []  B08P1FD8TC  B08P1FD8TC   \n",
              "4                                                  []  B001ELWMHI  B001ELWMHI   \n",
              "5                                                  []  B015TL6PCQ  B015TL6PCQ   \n",
              "6                                                  []  B073P93C5J  B07C71NFCQ   \n",
              "7                                                  []  B00K23LKK4  B00K23LKK4   \n",
              "8   [{'small_image_url': 'https://m.media-amazon.c...  B08ZK7YPC5  B0C4YMRSSX   \n",
              "9                                                  []  B07FD7BD6Q  B08BY9XN49   \n",
              "10                                                 []  B01I7P49QA  B01I7P49QA   \n",
              "11                                                 []  B008CP6MA2  B008CP6MA2   \n",
              "12                                                 []  B06X9YMLHP  B06X9YMLHP   \n",
              "13                                                 []  B000WMEEC6  B000WMEEC6   \n",
              "14                                                 []  B00DJYK8XS  B00DQNF3PU   \n",
              "\n",
              "                         user_id      timestamp  helpful_vote  \\\n",
              "0   AEXGMQEUWBQXBHRVLW44TRJWC3JA  1656517487863             2   \n",
              "1   AFG2BEBWPMTWYMGM5GR2FHSJBFSQ  1451591567000             0   \n",
              "2   AF4FPY7LFTKYNFDAG2K555OQMIRA  1444622037000             0   \n",
              "3   AFGTLMSBQVT5HFBSXCU2F7VLJARA  1673802604341             2   \n",
              "4   AGQOO3PKQKB45MV6Q3MEIUANTGRA  1248038407000             2   \n",
              "5   AHNLOLPNLKLBPCUJHOFFV7ZH3IJQ  1455476312000             1   \n",
              "6   AFLOYMBNOSXMU7MZDKOYQLO6QHUA  1599056361014             0   \n",
              "7   AHW2A2KY7U35MX6KIJJ2CYGZYSMA  1438221648000             0   \n",
              "8   AHU7CPNTOESBAXMDDPYXN6G7QWKA  1652551874226             0   \n",
              "9   AF46MN2LDAT4VU6Y6FZWRSLTMHVA  1641080913779             0   \n",
              "10  AHUHTUT3NXFLOGLEQYL7UDLDRS4Q  1560742805710             0   \n",
              "11  AE6XAEIE5KETTY7EY633FSZSWGOQ  1563457451654             0   \n",
              "12  AEHUTSVOO4IPLI6VCRF73NR3QHAQ  1492791547000             1   \n",
              "13  AFSXKGS5WBEMB6LSOPQ3CVQV3DZA  1253120108000             3   \n",
              "14  AGOFDHNDHPG25CTANGVGNXDA6OKA  1461936883000             0   \n",
              "\n",
              "    verified_purchase  \n",
              "0                True  \n",
              "1                True  \n",
              "2                True  \n",
              "3                True  \n",
              "4               False  \n",
              "5                True  \n",
              "6                True  \n",
              "7                True  \n",
              "8                True  \n",
              "9                True  \n",
              "10               True  \n",
              "11               True  \n",
              "12               True  \n",
              "13              False  \n",
              "14               True  "
            ],
            "text/html": [
              "\n",
              "  <div id=\"df-b2817828-c440-48c3-9c65-d29b53fcb38b\" class=\"colab-df-container\">\n",
              "    <div>\n",
              "<style scoped>\n",
              "    .dataframe tbody tr th:only-of-type {\n",
              "        vertical-align: middle;\n",
              "    }\n",
              "\n",
              "    .dataframe tbody tr th {\n",
              "        vertical-align: top;\n",
              "    }\n",
              "\n",
              "    .dataframe thead th {\n",
              "        text-align: right;\n",
              "    }\n",
              "</style>\n",
              "<table border=\"1\" class=\"dataframe\">\n",
              "  <thead>\n",
              "    <tr style=\"text-align: right;\">\n",
              "      <th></th>\n",
              "      <th>rating</th>\n",
              "      <th>title</th>\n",
              "      <th>text</th>\n",
              "      <th>images</th>\n",
              "      <th>asin</th>\n",
              "      <th>parent_asin</th>\n",
              "      <th>user_id</th>\n",
              "      <th>timestamp</th>\n",
              "      <th>helpful_vote</th>\n",
              "      <th>verified_purchase</th>\n",
              "    </tr>\n",
              "  </thead>\n",
              "  <tbody>\n",
              "    <tr>\n",
              "      <th>0</th>\n",
              "      <td>1.0</td>\n",
              "      <td>Worthless Piece of trash</td>\n",
              "      <td>This controller does not work with rechargeabl...</td>\n",
              "      <td>[]</td>\n",
              "      <td>B01MT1G98H</td>\n",
              "      <td>B01MT1G98H</td>\n",
              "      <td>AEXGMQEUWBQXBHRVLW44TRJWC3JA</td>\n",
              "      <td>1656517487863</td>\n",
              "      <td>2</td>\n",
              "      <td>True</td>\n",
              "    </tr>\n",
              "    <tr>\n",
              "      <th>1</th>\n",
              "      <td>5.0</td>\n",
              "      <td>Five Stars</td>\n",
              "      <td>OMG this game is so bad ass, I am 36 hours int...</td>\n",
              "      <td>[]</td>\n",
              "      <td>B00CJ7IUI6</td>\n",
              "      <td>B07YBXFDYN</td>\n",
              "      <td>AFG2BEBWPMTWYMGM5GR2FHSJBFSQ</td>\n",
              "      <td>1451591567000</td>\n",
              "      <td>0</td>\n",
              "      <td>True</td>\n",
              "    </tr>\n",
              "    <tr>\n",
              "      <th>2</th>\n",
              "      <td>5.0</td>\n",
              "      <td>Muramasa Rebirth: Definitive Edition</td>\n",
              "      <td>Never heard of this game until it was released...</td>\n",
              "      <td>[]</td>\n",
              "      <td>B00B7ELWAU</td>\n",
              "      <td>B00B7ELWAU</td>\n",
              "      <td>AF4FPY7LFTKYNFDAG2K555OQMIRA</td>\n",
              "      <td>1444622037000</td>\n",
              "      <td>0</td>\n",
              "      <td>True</td>\n",
              "    </tr>\n",
              "    <tr>\n",
              "      <th>3</th>\n",
              "      <td>4.0</td>\n",
              "      <td>Works well</td>\n",
              "      <td>I bought this for two Nintendo Switch Pro Cont...</td>\n",
              "      <td>[]</td>\n",
              "      <td>B08P1FD8TC</td>\n",
              "      <td>B08P1FD8TC</td>\n",
              "      <td>AFGTLMSBQVT5HFBSXCU2F7VLJARA</td>\n",
              "      <td>1673802604341</td>\n",
              "      <td>2</td>\n",
              "      <td>True</td>\n",
              "    </tr>\n",
              "    <tr>\n",
              "      <th>4</th>\n",
              "      <td>5.0</td>\n",
              "      <td>your kidding me</td>\n",
              "      <td>My review is for the actual XBOX not the perso...</td>\n",
              "      <td>[]</td>\n",
              "      <td>B001ELWMHI</td>\n",
              "      <td>B001ELWMHI</td>\n",
              "      <td>AGQOO3PKQKB45MV6Q3MEIUANTGRA</td>\n",
              "      <td>1248038407000</td>\n",
              "      <td>2</td>\n",
              "      <td>False</td>\n",
              "    </tr>\n",
              "    <tr>\n",
              "      <th>5</th>\n",
              "      <td>5.0</td>\n",
              "      <td>Love it</td>\n",
              "      <td>I'm very happy with my purchase</td>\n",
              "      <td>[]</td>\n",
              "      <td>B015TL6PCQ</td>\n",
              "      <td>B015TL6PCQ</td>\n",
              "      <td>AHNLOLPNLKLBPCUJHOFFV7ZH3IJQ</td>\n",
              "      <td>1455476312000</td>\n",
              "      <td>1</td>\n",
              "      <td>True</td>\n",
              "    </tr>\n",
              "    <tr>\n",
              "      <th>6</th>\n",
              "      <td>5.0</td>\n",
              "      <td>Had no problems installing</td>\n",
              "      <td>Was able to install the fan unit on the backsi...</td>\n",
              "      <td>[]</td>\n",
              "      <td>B073P93C5J</td>\n",
              "      <td>B07C71NFCQ</td>\n",
              "      <td>AFLOYMBNOSXMU7MZDKOYQLO6QHUA</td>\n",
              "      <td>1599056361014</td>\n",
              "      <td>0</td>\n",
              "      <td>True</td>\n",
              "    </tr>\n",
              "    <tr>\n",
              "      <th>7</th>\n",
              "      <td>5.0</td>\n",
              "      <td>Great thumbsticks!</td>\n",
              "      <td>Awesome, easy to install, look great and feel ...</td>\n",
              "      <td>[]</td>\n",
              "      <td>B00K23LKK4</td>\n",
              "      <td>B00K23LKK4</td>\n",
              "      <td>AHW2A2KY7U35MX6KIJJ2CYGZYSMA</td>\n",
              "      <td>1438221648000</td>\n",
              "      <td>0</td>\n",
              "      <td>True</td>\n",
              "    </tr>\n",
              "    <tr>\n",
              "      <th>8</th>\n",
              "      <td>5.0</td>\n",
              "      <td>Quick and Easy</td>\n",
              "      <td></td>\n",
              "      <td>[{'small_image_url': 'https://m.media-amazon.c...</td>\n",
              "      <td>B08ZK7YPC5</td>\n",
              "      <td>B0C4YMRSSX</td>\n",
              "      <td>AHU7CPNTOESBAXMDDPYXN6G7QWKA</td>\n",
              "      <td>1652551874226</td>\n",
              "      <td>0</td>\n",
              "      <td>True</td>\n",
              "    </tr>\n",
              "    <tr>\n",
              "      <th>9</th>\n",
              "      <td>5.0</td>\n",
              "      <td>This is the perfect case for the Nintendo Swit...</td>\n",
              "      <td>No dislikes and red is his favorite color. Per...</td>\n",
              "      <td>[]</td>\n",
              "      <td>B07FD7BD6Q</td>\n",
              "      <td>B08BY9XN49</td>\n",
              "      <td>AF46MN2LDAT4VU6Y6FZWRSLTMHVA</td>\n",
              "      <td>1641080913779</td>\n",
              "      <td>0</td>\n",
              "      <td>True</td>\n",
              "    </tr>\n",
              "    <tr>\n",
              "      <th>10</th>\n",
              "      <td>5.0</td>\n",
              "      <td>Buy this great affordable product 2 batteries</td>\n",
              "      <td>Great product saved me money works just great ...</td>\n",
              "      <td>[]</td>\n",
              "      <td>B01I7P49QA</td>\n",
              "      <td>B01I7P49QA</td>\n",
              "      <td>AHUHTUT3NXFLOGLEQYL7UDLDRS4Q</td>\n",
              "      <td>1560742805710</td>\n",
              "      <td>0</td>\n",
              "      <td>True</td>\n",
              "    </tr>\n",
              "    <tr>\n",
              "      <th>11</th>\n",
              "      <td>5.0</td>\n",
              "      <td>Excellent</td>\n",
              "      <td>Excellent saga.</td>\n",
              "      <td>[]</td>\n",
              "      <td>B008CP6MA2</td>\n",
              "      <td>B008CP6MA2</td>\n",
              "      <td>AE6XAEIE5KETTY7EY633FSZSWGOQ</td>\n",
              "      <td>1563457451654</td>\n",
              "      <td>0</td>\n",
              "      <td>True</td>\n",
              "    </tr>\n",
              "    <tr>\n",
              "      <th>12</th>\n",
              "      <td>5.0</td>\n",
              "      <td>Best Two-Player Game Ever!</td>\n",
              "      <td>This game is so much fun.  I bought this game ...</td>\n",
              "      <td>[]</td>\n",
              "      <td>B06X9YMLHP</td>\n",
              "      <td>B06X9YMLHP</td>\n",
              "      <td>AEHUTSVOO4IPLI6VCRF73NR3QHAQ</td>\n",
              "      <td>1492791547000</td>\n",
              "      <td>1</td>\n",
              "      <td>True</td>\n",
              "    </tr>\n",
              "    <tr>\n",
              "      <th>13</th>\n",
              "      <td>5.0</td>\n",
              "      <td>Thank you, Civilization creator, for keeping m...</td>\n",
              "      <td>I was slightly wary of this game, as my last v...</td>\n",
              "      <td>[]</td>\n",
              "      <td>B000WMEEC6</td>\n",
              "      <td>B000WMEEC6</td>\n",
              "      <td>AFSXKGS5WBEMB6LSOPQ3CVQV3DZA</td>\n",
              "      <td>1253120108000</td>\n",
              "      <td>3</td>\n",
              "      <td>False</td>\n",
              "    </tr>\n",
              "    <tr>\n",
              "      <th>14</th>\n",
              "      <td>3.0</td>\n",
              "      <td>Belt NOT included!!</td>\n",
              "      <td>Game is great.  The pic shows it comes with th...</td>\n",
              "      <td>[]</td>\n",
              "      <td>B00DJYK8XS</td>\n",
              "      <td>B00DQNF3PU</td>\n",
              "      <td>AGOFDHNDHPG25CTANGVGNXDA6OKA</td>\n",
              "      <td>1461936883000</td>\n",
              "      <td>0</td>\n",
              "      <td>True</td>\n",
              "    </tr>\n",
              "  </tbody>\n",
              "</table>\n",
              "</div>\n",
              "    <div class=\"colab-df-buttons\">\n",
              "\n",
              "  <div class=\"colab-df-container\">\n",
              "    <button class=\"colab-df-convert\" onclick=\"convertToInteractive('df-b2817828-c440-48c3-9c65-d29b53fcb38b')\"\n",
              "            title=\"Convert this dataframe to an interactive table.\"\n",
              "            style=\"display:none;\">\n",
              "\n",
              "  <svg xmlns=\"http://www.w3.org/2000/svg\" height=\"24px\" viewBox=\"0 -960 960 960\">\n",
              "    <path d=\"M120-120v-720h720v720H120Zm60-500h600v-160H180v160Zm220 220h160v-160H400v160Zm0 220h160v-160H400v160ZM180-400h160v-160H180v160Zm440 0h160v-160H620v160ZM180-180h160v-160H180v160Zm440 0h160v-160H620v160Z\"/>\n",
              "  </svg>\n",
              "    </button>\n",
              "\n",
              "  <style>\n",
              "    .colab-df-container {\n",
              "      display:flex;\n",
              "      gap: 12px;\n",
              "    }\n",
              "\n",
              "    .colab-df-convert {\n",
              "      background-color: #E8F0FE;\n",
              "      border: none;\n",
              "      border-radius: 50%;\n",
              "      cursor: pointer;\n",
              "      display: none;\n",
              "      fill: #1967D2;\n",
              "      height: 32px;\n",
              "      padding: 0 0 0 0;\n",
              "      width: 32px;\n",
              "    }\n",
              "\n",
              "    .colab-df-convert:hover {\n",
              "      background-color: #E2EBFA;\n",
              "      box-shadow: 0px 1px 2px rgba(60, 64, 67, 0.3), 0px 1px 3px 1px rgba(60, 64, 67, 0.15);\n",
              "      fill: #174EA6;\n",
              "    }\n",
              "\n",
              "    .colab-df-buttons div {\n",
              "      margin-bottom: 4px;\n",
              "    }\n",
              "\n",
              "    [theme=dark] .colab-df-convert {\n",
              "      background-color: #3B4455;\n",
              "      fill: #D2E3FC;\n",
              "    }\n",
              "\n",
              "    [theme=dark] .colab-df-convert:hover {\n",
              "      background-color: #434B5C;\n",
              "      box-shadow: 0px 1px 3px 1px rgba(0, 0, 0, 0.15);\n",
              "      filter: drop-shadow(0px 1px 2px rgba(0, 0, 0, 0.3));\n",
              "      fill: #FFFFFF;\n",
              "    }\n",
              "  </style>\n",
              "\n",
              "    <script>\n",
              "      const buttonEl =\n",
              "        document.querySelector('#df-b2817828-c440-48c3-9c65-d29b53fcb38b button.colab-df-convert');\n",
              "      buttonEl.style.display =\n",
              "        google.colab.kernel.accessAllowed ? 'block' : 'none';\n",
              "\n",
              "      async function convertToInteractive(key) {\n",
              "        const element = document.querySelector('#df-b2817828-c440-48c3-9c65-d29b53fcb38b');\n",
              "        const dataTable =\n",
              "          await google.colab.kernel.invokeFunction('convertToInteractive',\n",
              "                                                    [key], {});\n",
              "        if (!dataTable) return;\n",
              "\n",
              "        const docLinkHtml = 'Like what you see? Visit the ' +\n",
              "          '<a target=\"_blank\" href=https://colab.research.google.com/notebooks/data_table.ipynb>data table notebook</a>'\n",
              "          + ' to learn more about interactive tables.';\n",
              "        element.innerHTML = '';\n",
              "        dataTable['output_type'] = 'display_data';\n",
              "        await google.colab.output.renderOutput(dataTable, element);\n",
              "        const docLink = document.createElement('div');\n",
              "        docLink.innerHTML = docLinkHtml;\n",
              "        element.appendChild(docLink);\n",
              "      }\n",
              "    </script>\n",
              "  </div>\n",
              "\n",
              "\n",
              "<div id=\"df-f90d9598-8473-4f38-9b36-741abff9ce95\">\n",
              "  <button class=\"colab-df-quickchart\" onclick=\"quickchart('df-f90d9598-8473-4f38-9b36-741abff9ce95')\"\n",
              "            title=\"Suggest charts\"\n",
              "            style=\"display:none;\">\n",
              "\n",
              "<svg xmlns=\"http://www.w3.org/2000/svg\" height=\"24px\"viewBox=\"0 0 24 24\"\n",
              "     width=\"24px\">\n",
              "    <g>\n",
              "        <path d=\"M19 3H5c-1.1 0-2 .9-2 2v14c0 1.1.9 2 2 2h14c1.1 0 2-.9 2-2V5c0-1.1-.9-2-2-2zM9 17H7v-7h2v7zm4 0h-2V7h2v10zm4 0h-2v-4h2v4z\"/>\n",
              "    </g>\n",
              "</svg>\n",
              "  </button>\n",
              "\n",
              "<style>\n",
              "  .colab-df-quickchart {\n",
              "      --bg-color: #E8F0FE;\n",
              "      --fill-color: #1967D2;\n",
              "      --hover-bg-color: #E2EBFA;\n",
              "      --hover-fill-color: #174EA6;\n",
              "      --disabled-fill-color: #AAA;\n",
              "      --disabled-bg-color: #DDD;\n",
              "  }\n",
              "\n",
              "  [theme=dark] .colab-df-quickchart {\n",
              "      --bg-color: #3B4455;\n",
              "      --fill-color: #D2E3FC;\n",
              "      --hover-bg-color: #434B5C;\n",
              "      --hover-fill-color: #FFFFFF;\n",
              "      --disabled-bg-color: #3B4455;\n",
              "      --disabled-fill-color: #666;\n",
              "  }\n",
              "\n",
              "  .colab-df-quickchart {\n",
              "    background-color: var(--bg-color);\n",
              "    border: none;\n",
              "    border-radius: 50%;\n",
              "    cursor: pointer;\n",
              "    display: none;\n",
              "    fill: var(--fill-color);\n",
              "    height: 32px;\n",
              "    padding: 0;\n",
              "    width: 32px;\n",
              "  }\n",
              "\n",
              "  .colab-df-quickchart:hover {\n",
              "    background-color: var(--hover-bg-color);\n",
              "    box-shadow: 0 1px 2px rgba(60, 64, 67, 0.3), 0 1px 3px 1px rgba(60, 64, 67, 0.15);\n",
              "    fill: var(--button-hover-fill-color);\n",
              "  }\n",
              "\n",
              "  .colab-df-quickchart-complete:disabled,\n",
              "  .colab-df-quickchart-complete:disabled:hover {\n",
              "    background-color: var(--disabled-bg-color);\n",
              "    fill: var(--disabled-fill-color);\n",
              "    box-shadow: none;\n",
              "  }\n",
              "\n",
              "  .colab-df-spinner {\n",
              "    border: 2px solid var(--fill-color);\n",
              "    border-color: transparent;\n",
              "    border-bottom-color: var(--fill-color);\n",
              "    animation:\n",
              "      spin 1s steps(1) infinite;\n",
              "  }\n",
              "\n",
              "  @keyframes spin {\n",
              "    0% {\n",
              "      border-color: transparent;\n",
              "      border-bottom-color: var(--fill-color);\n",
              "      border-left-color: var(--fill-color);\n",
              "    }\n",
              "    20% {\n",
              "      border-color: transparent;\n",
              "      border-left-color: var(--fill-color);\n",
              "      border-top-color: var(--fill-color);\n",
              "    }\n",
              "    30% {\n",
              "      border-color: transparent;\n",
              "      border-left-color: var(--fill-color);\n",
              "      border-top-color: var(--fill-color);\n",
              "      border-right-color: var(--fill-color);\n",
              "    }\n",
              "    40% {\n",
              "      border-color: transparent;\n",
              "      border-right-color: var(--fill-color);\n",
              "      border-top-color: var(--fill-color);\n",
              "    }\n",
              "    60% {\n",
              "      border-color: transparent;\n",
              "      border-right-color: var(--fill-color);\n",
              "    }\n",
              "    80% {\n",
              "      border-color: transparent;\n",
              "      border-right-color: var(--fill-color);\n",
              "      border-bottom-color: var(--fill-color);\n",
              "    }\n",
              "    90% {\n",
              "      border-color: transparent;\n",
              "      border-bottom-color: var(--fill-color);\n",
              "    }\n",
              "  }\n",
              "</style>\n",
              "\n",
              "  <script>\n",
              "    async function quickchart(key) {\n",
              "      const quickchartButtonEl =\n",
              "        document.querySelector('#' + key + ' button');\n",
              "      quickchartButtonEl.disabled = true;  // To prevent multiple clicks.\n",
              "      quickchartButtonEl.classList.add('colab-df-spinner');\n",
              "      try {\n",
              "        const charts = await google.colab.kernel.invokeFunction(\n",
              "            'suggestCharts', [key], {});\n",
              "      } catch (error) {\n",
              "        console.error('Error during call to suggestCharts:', error);\n",
              "      }\n",
              "      quickchartButtonEl.classList.remove('colab-df-spinner');\n",
              "      quickchartButtonEl.classList.add('colab-df-quickchart-complete');\n",
              "    }\n",
              "    (() => {\n",
              "      let quickchartButtonEl =\n",
              "        document.querySelector('#df-f90d9598-8473-4f38-9b36-741abff9ce95 button');\n",
              "      quickchartButtonEl.style.display =\n",
              "        google.colab.kernel.accessAllowed ? 'block' : 'none';\n",
              "    })();\n",
              "  </script>\n",
              "</div>\n",
              "    </div>\n",
              "  </div>\n"
            ],
            "application/vnd.google.colaboratory.intrinsic+json": {
              "type": "dataframe",
              "variable_name": "df",
              "summary": "{\n  \"name\": \"df\",\n  \"rows\": 250,\n  \"fields\": [\n    {\n      \"column\": \"rating\",\n      \"properties\": {\n        \"dtype\": \"number\",\n        \"std\": 1.452371001536597,\n        \"min\": 1.0,\n        \"max\": 5.0,\n        \"num_unique_values\": 5,\n        \"samples\": [\n          5.0,\n          2.0,\n          4.0\n        ],\n        \"semantic_type\": \"\",\n        \"description\": \"\"\n      }\n    },\n    {\n      \"column\": \"title\",\n      \"properties\": {\n        \"dtype\": \"string\",\n        \"num_unique_values\": 214,\n        \"samples\": [\n          \"This is the perfect case for the Nintendo Switch Oled. It holds everything my grandson needs!!\",\n          \"Good value for the money\",\n          \"Great simple mouse that does what its supposed to do\"\n        ],\n        \"semantic_type\": \"\",\n        \"description\": \"\"\n      }\n    },\n    {\n      \"column\": \"text\",\n      \"properties\": {\n        \"dtype\": \"string\",\n        \"num_unique_values\": 249,\n        \"samples\": [\n          \"Fell out too easily.\",\n          \"Was able to install the fan unit on the backside of the PS4 Pro without any problem, did it without seeing from the front as I didn't want to remove the Playstation from it's location and it snapped into place and plugged into the USB port and all was good and it works and no noticeable fan noise. I guess it helps to keep the PS4 cooler, as the Playstation fans are not going into Hi-speed mode, which cuts down the loud fan noise, which reduces the heat buildup internally, providing a longer life for the PS4 Pro. Until PS5?????  USB ports on the front snapped in and all ports work, except I don't have USB 3 device to check that port, plugged fan unit into that port.\",\n          \"I thought I was getting covers not stickers it needs to say these are sticker in the name. I am mot happy at all\"\n        ],\n        \"semantic_type\": \"\",\n        \"description\": \"\"\n      }\n    },\n    {\n      \"column\": \"images\",\n      \"properties\": {\n        \"dtype\": \"category\",\n        \"num_unique_values\": 14,\n        \"samples\": [\n          \"[{'small_image_url': 'https://images-na.ssl-images-amazon.com/images/I/71jSLr1eUpL._SL256_.jpg', 'medium_image_url': 'https://images-na.ssl-images-amazon.com/images/I/71jSLr1eUpL._SL800_.jpg', 'large_image_url': 'https://images-na.ssl-images-amazon.com/images/I/71jSLr1eUpL._SL1600_.jpg', 'attachment_type': 'IMAGE'}]\",\n          \"[{'small_image_url': 'https://images-na.ssl-images-amazon.com/images/I/71H9UA8-61L._SL256_.jpg', 'medium_image_url': 'https://images-na.ssl-images-amazon.com/images/I/71H9UA8-61L._SL800_.jpg', 'large_image_url': 'https://images-na.ssl-images-amazon.com/images/I/71H9UA8-61L._SL1600_.jpg', 'attachment_type': 'IMAGE'}, {'small_image_url': 'https://images-na.ssl-images-amazon.com/images/I/71P2hwJOjbL._SL256_.jpg', 'medium_image_url': 'https://images-na.ssl-images-amazon.com/images/I/71P2hwJOjbL._SL800_.jpg', 'large_image_url': 'https://images-na.ssl-images-amazon.com/images/I/71P2hwJOjbL._SL1600_.jpg', 'attachment_type': 'IMAGE'}, {'small_image_url': 'https://images-na.ssl-images-amazon.com/images/I/81PByPsh9uL._SL256_.jpg', 'medium_image_url': 'https://images-na.ssl-images-amazon.com/images/I/81PByPsh9uL._SL800_.jpg', 'large_image_url': 'https://images-na.ssl-images-amazon.com/images/I/81PByPsh9uL.jpg', 'attachment_type': 'IMAGE'}]\",\n          \"[]\"\n        ],\n        \"semantic_type\": \"\",\n        \"description\": \"\"\n      }\n    },\n    {\n      \"column\": \"asin\",\n      \"properties\": {\n        \"dtype\": \"string\",\n        \"num_unique_values\": 247,\n        \"samples\": [\n          \"B00LO28OCO\",\n          \"B073P93C5J\",\n          \"B00KVP76G0\"\n        ],\n        \"semantic_type\": \"\",\n        \"description\": \"\"\n      }\n    },\n    {\n      \"column\": \"parent_asin\",\n      \"properties\": {\n        \"dtype\": \"string\",\n        \"num_unique_values\": 246,\n        \"samples\": [\n          \"B07FJLDMVB\",\n          \"B07C71NFCQ\",\n          \"B00KVP76G0\"\n        ],\n        \"semantic_type\": \"\",\n        \"description\": \"\"\n      }\n    },\n    {\n      \"column\": \"user_id\",\n      \"properties\": {\n        \"dtype\": \"string\",\n        \"num_unique_values\": 250,\n        \"samples\": [\n          \"AECJD4OXWPCZMRY2AYRIG37QZ5EQ\",\n          \"AFLOYMBNOSXMU7MZDKOYQLO6QHUA\",\n          \"AG3KXIHCQQTDYCMRZVXB5TSVFTBQ\"\n        ],\n        \"semantic_type\": \"\",\n        \"description\": \"\"\n      }\n    },\n    {\n      \"column\": \"timestamp\",\n      \"properties\": {\n        \"dtype\": \"number\",\n        \"std\": 132062754857,\n        \"min\": 955323806000,\n        \"max\": 1688562557802,\n        \"num_unique_values\": 250,\n        \"samples\": [\n          1623672746665,\n          1599056361014,\n          1661948142758\n        ],\n        \"semantic_type\": \"\",\n        \"description\": \"\"\n      }\n    },\n    {\n      \"column\": \"helpful_vote\",\n      \"properties\": {\n        \"dtype\": \"number\",\n        \"std\": 2,\n        \"min\": 0,\n        \"max\": 26,\n        \"num_unique_values\": 11,\n        \"samples\": [\n          11,\n          2,\n          7\n        ],\n        \"semantic_type\": \"\",\n        \"description\": \"\"\n      }\n    },\n    {\n      \"column\": \"verified_purchase\",\n      \"properties\": {\n        \"dtype\": \"boolean\",\n        \"num_unique_values\": 2,\n        \"samples\": [\n          false,\n          true\n        ],\n        \"semantic_type\": \"\",\n        \"description\": \"\"\n      }\n    }\n  ]\n}"
            }
          },
          "metadata": {},
          "execution_count": 8
        }
      ]
    },
    {
      "cell_type": "code",
      "source": [
        "print(\"Col_Name: \", df.columns.tolist()) #Print column names to understand the dataframe"
      ],
      "metadata": {
        "colab": {
          "base_uri": "https://localhost:8080/"
        },
        "id": "0wfIYlAIfDnH",
        "outputId": "5790b7f4-9cb6-400f-c36b-24d66df052ab"
      },
      "execution_count": 9,
      "outputs": [
        {
          "output_type": "stream",
          "name": "stdout",
          "text": [
            "Col_Name:  ['rating', 'title', 'text', 'images', 'asin', 'parent_asin', 'user_id', 'timestamp', 'helpful_vote', 'verified_purchase']\n"
          ]
        }
      ]
    },
    {
      "cell_type": "code",
      "source": [
        "true_count = df['verified_purchase'].sum()"
      ],
      "metadata": {
        "id": "8o0paSA88GEQ"
      },
      "execution_count": 10,
      "outputs": []
    },
    {
      "cell_type": "code",
      "source": [
        "true_count"
      ],
      "metadata": {
        "colab": {
          "base_uri": "https://localhost:8080/"
        },
        "id": "wzDWy0BS8erp",
        "outputId": "99941f14-d670-461e-82cb-3d82303cc987"
      },
      "execution_count": 11,
      "outputs": [
        {
          "output_type": "execute_result",
          "data": {
            "text/plain": [
              "210"
            ]
          },
          "metadata": {},
          "execution_count": 11
        }
      ]
    },
    {
      "cell_type": "markdown",
      "source": [
        "Determining the missing value in dataset"
      ],
      "metadata": {
        "id": "h0XzW9xolQhX"
      }
    },
    {
      "cell_type": "code",
      "source": [
        "missing_values = df.isnull().sum() #Checking missing values in the dataframe\n",
        "print(\"Missing values in each column:\")\n",
        "print(missing_values)"
      ],
      "metadata": {
        "colab": {
          "base_uri": "https://localhost:8080/"
        },
        "id": "bKqU-ec_gA2n",
        "outputId": "65a203a1-a83c-4307-8954-2c35000cda1e"
      },
      "execution_count": 12,
      "outputs": [
        {
          "output_type": "stream",
          "name": "stdout",
          "text": [
            "Missing values in each column:\n",
            "rating               0\n",
            "title                0\n",
            "text                 0\n",
            "images               0\n",
            "asin                 0\n",
            "parent_asin          0\n",
            "user_id              0\n",
            "timestamp            0\n",
            "helpful_vote         0\n",
            "verified_purchase    0\n",
            "dtype: int64\n"
          ]
        }
      ]
    },
    {
      "cell_type": "markdown",
      "source": [
        "It is clear that the dataset doesnot have any null values. So it saves us from working on the strategy to proceed for the further analysis"
      ],
      "metadata": {
        "id": "CMuE0TZAlnq4"
      }
    },
    {
      "cell_type": "markdown",
      "source": [
        "Find the statistical values (Like mean, median, min, max, standard deviation)"
      ],
      "metadata": {
        "id": "7BihKtTpl7Z4"
      }
    },
    {
      "cell_type": "code",
      "source": [
        "stats = df.describe() #Describing the statistical results of the numerical variables in the dataset\n",
        "\n",
        "print(\"Statistical values for numerical columns: \")\n",
        "print(stats)"
      ],
      "metadata": {
        "colab": {
          "base_uri": "https://localhost:8080/"
        },
        "id": "9finBuD2lZFL",
        "outputId": "360fbf5e-22f3-478a-8e68-5d7576f8e110"
      },
      "execution_count": 13,
      "outputs": [
        {
          "output_type": "stream",
          "name": "stdout",
          "text": [
            "Statistical values for numerical columns: \n",
            "           rating     timestamp  helpful_vote\n",
            "count  250.000000  2.500000e+02    250.000000\n",
            "mean     4.084000  1.506237e+12      0.800000\n",
            "std      1.452371  1.320628e+11      2.755061\n",
            "min      1.000000  9.553238e+11      0.000000\n",
            "25%      4.000000  1.437086e+12      0.000000\n",
            "50%      5.000000  1.528165e+12      0.000000\n",
            "75%      5.000000  1.612804e+12      0.000000\n",
            "max      5.000000  1.688563e+12     26.000000\n"
          ]
        }
      ]
    },
    {
      "cell_type": "markdown",
      "source": [
        "Sentiment Analysis"
      ],
      "metadata": {
        "id": "xGPx1MNEMo7w"
      }
    },
    {
      "cell_type": "code",
      "source": [
        "from textblob import TextBlob"
      ],
      "metadata": {
        "id": "6s_EMgPyMlKJ"
      },
      "execution_count": 14,
      "outputs": []
    },
    {
      "cell_type": "code",
      "source": [
        "def senti_analyse(text):\n",
        "  #Using Textblob to analyse the overall sentiment analysis score for each review. It is the score combination of all words in the review\n",
        "  blob = TextBlob(text)\n",
        "  sentiment = blob.sentiment.polarity\n",
        "  return sentiment\n",
        "\n",
        "df['sentiment'] = df['text'].apply(senti_analyse)"
      ],
      "metadata": {
        "id": "-tbO6sugMl6A"
      },
      "execution_count": 15,
      "outputs": []
    },
    {
      "cell_type": "code",
      "source": [
        "print(df['sentiment'])"
      ],
      "metadata": {
        "colab": {
          "base_uri": "https://localhost:8080/"
        },
        "id": "qQ0dXtjyNMLb",
        "outputId": "5390d036-2793-4ac8-d93e-44a41353b508"
      },
      "execution_count": 16,
      "outputs": [
        {
          "output_type": "stream",
          "name": "stdout",
          "text": [
            "0      0.062500\n",
            "1     -0.350000\n",
            "2      0.075000\n",
            "3     -0.161111\n",
            "4     -0.112054\n",
            "         ...   \n",
            "245    0.125354\n",
            "246    0.500000\n",
            "247    0.404762\n",
            "248    0.295455\n",
            "249    0.000000\n",
            "Name: sentiment, Length: 250, dtype: float64\n"
          ]
        }
      ]
    },
    {
      "cell_type": "markdown",
      "source": [
        "Plotting Sentiment results vs rating"
      ],
      "metadata": {
        "id": "0rDpKXGlNWuy"
      }
    },
    {
      "cell_type": "code",
      "source": [
        "#Plotting the graph to understand distribution of sentiment scores within different rating categories\n",
        "plt.figure(figsize =(10,8))\n",
        "plt.scatter(df['rating'], df['sentiment'], marker = 'o', label = 'Sentiment score')\n",
        "\n",
        "plt.xlabel('Game Rating')\n",
        "plt.ylabel('Sentiment Score')\n",
        "plt.title(\"Rating vs Sentiment Score\")\n",
        "\n",
        "plt.legend()\n",
        "\n",
        "plt.grid(False)\n",
        "plt.show()"
      ],
      "metadata": {
        "colab": {
          "base_uri": "https://localhost:8080/",
          "height": 718
        },
        "id": "ZoW-c7x5NSxT",
        "outputId": "eb062692-801b-4869-f0d8-1bc3735b40a5"
      },
      "execution_count": 17,
      "outputs": [
        {
          "output_type": "display_data",
          "data": {
            "text/plain": [
              "<Figure size 1000x800 with 1 Axes>"
            ],
            "image/png": "[encoded data removed]"
          },
          "metadata": {}
        }
      ]
    },
    {
      "cell_type": "code",
      "source": [
        "#Plotitng a box plot to understand distribution of sentiment scores within different rating categories\n",
        "\n",
        "plt.figure(figsize=(10,8))\n",
        "sns.boxplot(x='rating', y='sentiment', data=df, palette='coolwarm')\n",
        "plt.xlabel('Game Rating')\n",
        "plt.ylabel ('Sentiment score')\n",
        "plt.title('Rating vs sentiment score')\n",
        "plt.grid(False)\n",
        "plt.show()"
      ],
      "metadata": {
        "colab": {
          "base_uri": "https://localhost:8080/",
          "height": 718
        },
        "id": "hJigayKOOFtG",
        "outputId": "d0491cef-fab8-461e-f940-0f6263b320fe"
      },
      "execution_count": 18,
      "outputs": [
        {
          "output_type": "display_data",
          "data": {
            "text/plain": [
              "<Figure size 1000x800 with 1 Axes>"
            ],
            "image/png": "[encoded data removed]"
          },
          "metadata": {}
        }
      ]
    },
    {
      "cell_type": "code",
      "source": [
        "data = {'Rating': df['rating'], 'Sentiment Score': df['sentiment']}\n",
        "df1 = pd.DataFrame(data)"
      ],
      "metadata": {
        "id": "wyrPNL_qXsQu"
      },
      "execution_count": 19,
      "outputs": []
    },
    {
      "cell_type": "code",
      "source": [
        "# Create an interactive scatter plot using Plotly\n",
        "fig = px.scatter(df1, x='Rating', y='Sentiment Score', title='Game Rating vs Sentiment Score',\n",
        "             labels={'Sentiment Score': 'Sentiment Score'},\n",
        "             color_discrete_sequence=['royalblue'])\n",
        "\n",
        "# Show the plot\n",
        "fig.show()"
      ],
      "metadata": {
        "colab": {
          "base_uri": "https://localhost:8080/",
          "height": 542
        },
        "id": "IUW9VNIVfmLL",
        "outputId": "a5a5842f-487f-41d4-8981-c8ba75d468b0"
      },
      "execution_count": 20,
      "outputs": [
        {
          "output_type": "display_data",
          "data": {
            "text/html": [
              "<html>\n",
              "<head><meta charset=\"utf-8\" /></head>\n",
              "<body>\n",
              "    <div>            <script src=\"https://cdnjs.cloudflare.com/ajax/libs/mathjax/2.7.5/MathJax.js?config=TeX-AMS-MML_SVG\"></script><script type=\"text/javascript\">if (window.MathJax && window.MathJax.Hub && window.MathJax.Hub.Config) {window.MathJax.Hub.Config({SVG: {font: \"STIX-Web\"}});}</script>                <script type=\"text/javascript\">window.PlotlyConfig = {MathJaxConfig: 'local'};</script>\n",
              "        <script charset=\"utf-8\" src=\"https://cdn.plot.ly/plotly-2.24.1.min.js\"></script>                <div id=\"c5745586-3a8e-4239-a6d8-08306bef9898\" class=\"plotly-graph-div\" style=\"height:525px; width:100%;\"></div>            <script type=\"text/javascript\">                                    window.PLOTLYENV=window.PLOTLYENV || {};                                    if (document.getElementById(\"c5745586-3a8e-4239-a6d8-08306bef9898\")) {                    Plotly.newPlot(                        \"c5745586-3a8e-4239-a6d8-08306bef9898\",                        [{\"hovertemplate\":\"Rating=%{x}\\u003cbr\\u003eSentiment Score=%{y}\\u003cextra\\u003e\\u003c\\u002fextra\\u003e\",\"legendgroup\":\"\",\"marker\":{\"color\":\"royalblue\",\"symbol\":\"circle\"},\"mode\":\"markers\",\"name\":\"\",\"orientation\":\"v\",\"showlegend\":false,\"x\":[1.0,5.0,5.0,4.0,5.0,5.0,5.0,5.0,5.0,5.0,5.0,5.0,5.0,5.0,3.0,4.0,5.0,4.0,1.0,5.0,5.0,5.0,5.0,3.0,5.0,5.0,3.0,5.0,5.0,3.0,5.0,5.0,2.0,4.0,4.0,5.0,5.0,5.0,5.0,5.0,5.0,5.0,2.0,5.0,1.0,5.0,2.0,4.0,5.0,5.0,5.0,5.0,5.0,2.0,4.0,5.0,5.0,1.0,5.0,1.0,1.0,5.0,5.0,5.0,5.0,5.0,4.0,4.0,3.0,5.0,5.0,5.0,5.0,3.0,5.0,5.0,5.0,4.0,5.0,4.0,5.0,2.0,5.0,2.0,5.0,5.0,4.0,5.0,5.0,5.0,5.0,2.0,5.0,5.0,5.0,1.0,5.0,2.0,5.0,4.0,5.0,5.0,5.0,3.0,5.0,5.0,5.0,3.0,4.0,5.0,5.0,2.0,5.0,1.0,5.0,1.0,5.0,5.0,5.0,5.0,5.0,5.0,5.0,5.0,1.0,5.0,3.0,5.0,5.0,5.0,4.0,5.0,2.0,2.0,5.0,5.0,1.0,2.0,5.0,5.0,4.0,5.0,5.0,5.0,5.0,5.0,5.0,5.0,5.0,3.0,2.0,5.0,1.0,1.0,5.0,5.0,3.0,5.0,5.0,5.0,1.0,5.0,5.0,2.0,1.0,5.0,4.0,5.0,5.0,1.0,5.0,2.0,5.0,3.0,5.0,5.0,5.0,5.0,5.0,4.0,5.0,1.0,5.0,1.0,5.0,1.0,5.0,5.0,5.0,4.0,5.0,5.0,2.0,1.0,2.0,5.0,5.0,4.0,5.0,5.0,1.0,1.0,5.0,1.0,5.0,5.0,1.0,5.0,5.0,5.0,5.0,5.0,5.0,2.0,4.0,5.0,1.0,5.0,4.0,5.0,5.0,5.0,5.0,5.0,5.0,1.0,4.0,5.0,1.0,5.0,4.0,5.0,5.0,5.0,5.0,5.0,5.0,1.0,1.0,5.0,5.0,1.0,5.0,4.0,1.0,3.0,5.0,5.0,5.0,5.0],\"xaxis\":\"x\",\"y\":[0.06250000000000001,-0.3499999999999999,0.075,-0.16111111111111112,-0.11205357142857143,1.0,0.22888888888888886,0.8083333333333333,0.0,0.5,0.49375,1.0,0.20681818181818185,0.024421068796068788,0.3,0.175,0.6,0.08313932595182597,0.17393939393939392,0.8,0.3333333333333333,0.5777777777777778,1.0,0.05,0.25999999999999995,0.11515151515151514,0.15817460317460316,0.2866666666666667,0.1309523809523809,0.06666666666666667,0.14285714285714285,0.12348484848484848,0.15824175824175823,0.13034188034188035,0.8,0.31253968253968256,0.0,0.2833333333333333,0.0,0.5340909090909091,0.8,1.0,-0.010101010101010102,0.225,-0.20833333333333337,0.0,0.15000000000000002,0.148125,0.6,0.0,0.8,0.25,0.8,0.0840909090909091,0.040000000000000056,0.65,0.08611111111111112,0.1369047619047619,0.02177486359126984,0.09375,-0.08333333333333333,0.0,-0.025,0.1787878787878788,-0.4,0.0,0.22000000000000003,0.03958333333333335,0.0,0.6510416666666665,0.9,0.6416666666666667,0.34238095238095234,0.032852633477633474,0.9099999999999999,0.35000000000000003,0.14523809523809522,0.0,0.17666666666666667,0.25,0.2,-0.10416666666666667,0.07608695652173914,0.43333333333333335,0.36,0.23703703703703707,0.26785714285714285,0.14999999999999997,0.3283333333333333,0.3,0.4715909090909091,0.11905355097365415,0.875,-0.040000000000000015,0.275,-0.8,0.5,0.8,-0.2,0.134375,0.3508333333333334,0.35000000000000003,0.6083333333333334,0.26537037037037037,0.33194444444444443,1.0,0.109375,0.13333333333333333,0.1418243243243243,0.29166666666666663,0.35,0.21581018518518522,0.37411255411255406,0.0,0.5231250000000001,-0.06025641025641025,0.17916666666666667,0.15043290043290045,0.12291666666666667,0.8,0.1,0.5,0.3666666666666667,1.0,0.15000000000000002,0.5953645833333334,0.175,0.7500000000000001,0.4166666666666667,0.7,0.36,0.0,0.07999999999999999,0.44999999999999996,0.0,0.5333333333333333,-0.0976190476190476,0.43333333333333335,-0.035,0.4611111111111111,0.24166666666666664,0.6833333333333333,0.09166666666666667,0.125,1.0,0.2,0.303125,0.6000000000000001,0.15863636363636352,0.20104866397969848,-0.111142400683217,0.25,0.28250000000000003,-0.14166666666666664,0.26687500000000003,0.4708333333333334,0.10892857142857147,0.4666666666666666,-0.07291666666666666,0.525,-0.16666666666666666,0.8,0.0,-0.4,0.07142857142857142,0.0,0.4166666666666667,0.06607142857142857,0.0,0.1,0.0,2.7755575615628914e-17,0.28611111111111115,0.6,0.9,0.8,0.55,0.10078076685219543,0.125,0.7,0.0,-0.05722222222222223,0.0,0.012857142857142876,0.5166666666666667,0.020454545454545472,0.44583333333333336,1.0,0.2,0.0,0.4000000000000001,0.0,-0.06958333333333333,-0.1416666666666667,0.25476190476190474,1.0,0.2,0.23210279304029305,0.7,0.1351190476190476,-0.3666666666666667,0.0,0.1333333333333333,0.0,0.2333333333333333,0.4,-0.19895833333333335,0.8,0.8,0.16499999999999998,0.0,0.21666666666666667,0.24848484848484848,-0.06813725490196078,0.12716666666666668,0.1,-0.2373636363636363,0.3625,0.3,0.6,0.5604166666666667,0.0,0.3856060606060606,0.0,0.575,0.09938822751322751,0.44999999999999996,0.39722222222222225,0.0,0.05880589107861836,0.08257575757575757,0.6166666666666667,0.4,0.265,0.275,1.0,0.6103515625,-0.48828125,0.37916666666666665,0.65625,0.016666666666666653,-0.575,-0.11060606060606061,0.3805555555555556,-0.033164983164983175,0.12535382257516012,0.5,0.4047619047619047,0.29545454545454547,0.0],\"yaxis\":\"y\",\"type\":\"scatter\"}],                        {\"template\":{\"data\":{\"histogram2dcontour\":[{\"type\":\"histogram2dcontour\",\"colorbar\":{\"outlinewidth\":0,\"ticks\":\"\"},\"colorscale\":[[0.0,\"#0d0887\"],[0.1111111111111111,\"#46039f\"],[0.2222222222222222,\"#7201a8\"],[0.3333333333333333,\"#9c179e\"],[0.4444444444444444,\"#bd3786\"],[0.5555555555555556,\"#d8576b\"],[0.6666666666666666,\"#ed7953\"],[0.7777777777777778,\"#fb9f3a\"],[0.8888888888888888,\"#fdca26\"],[1.0,\"#f0f921\"]]}],\"choropleth\":[{\"type\":\"choropleth\",\"colorbar\":{\"outlinewidth\":0,\"ticks\":\"\"}}],\"histogram2d\":[{\"type\":\"histogram2d\",\"colorbar\":{\"outlinewidth\":0,\"ticks\":\"\"},\"colorscale\":[[0.0,\"#0d0887\"],[0.1111111111111111,\"#46039f\"],[0.2222222222222222,\"#7201a8\"],[0.3333333333333333,\"#9c179e\"],[0.4444444444444444,\"#bd3786\"],[0.5555555555555556,\"#d8576b\"],[0.6666666666666666,\"#ed7953\"],[0.7777777777777778,\"#fb9f3a\"],[0.8888888888888888,\"#fdca26\"],[1.0,\"#f0f921\"]]}],\"heatmap\":[{\"type\":\"heatmap\",\"colorbar\":{\"outlinewidth\":0,\"ticks\":\"\"},\"colorscale\":[[0.0,\"#0d0887\"],[0.1111111111111111,\"#46039f\"],[0.2222222222222222,\"#7201a8\"],[0.3333333333333333,\"#9c179e\"],[0.4444444444444444,\"#bd3786\"],[0.5555555555555556,\"#d8576b\"],[0.6666666666666666,\"#ed7953\"],[0.7777777777777778,\"#fb9f3a\"],[0.8888888888888888,\"#fdca26\"],[1.0,\"#f0f921\"]]}],\"heatmapgl\":[{\"type\":\"heatmapgl\",\"colorbar\":{\"outlinewidth\":0,\"ticks\":\"\"},\"colorscale\":[[0.0,\"#0d0887\"],[0.1111111111111111,\"#46039f\"],[0.2222222222222222,\"#7201a8\"],[0.3333333333333333,\"#9c179e\"],[0.4444444444444444,\"#bd3786\"],[0.5555555555555556,\"#d8576b\"],[0.6666666666666666,\"#ed7953\"],[0.7777777777777778,\"#fb9f3a\"],[0.8888888888888888,\"#fdca26\"],[1.0,\"#f0f921\"]]}],\"contourcarpet\":[{\"type\":\"contourcarpet\",\"colorbar\":{\"outlinewidth\":0,\"ticks\":\"\"}}],\"contour\":[{\"type\":\"contour\",\"colorbar\":{\"outlinewidth\":0,\"ticks\":\"\"},\"colorscale\":[[0.0,\"#0d0887\"],[0.1111111111111111,\"#46039f\"],[0.2222222222222222,\"#7201a8\"],[0.3333333333333333,\"#9c179e\"],[0.4444444444444444,\"#bd3786\"],[0.5555555555555556,\"#d8576b\"],[0.6666666666666666,\"#ed7953\"],[0.7777777777777778,\"#fb9f3a\"],[0.8888888888888888,\"#fdca26\"],[1.0,\"#f0f921\"]]}],\"surface\":[{\"type\":\"surface\",\"colorbar\":{\"outlinewidth\":0,\"ticks\":\"\"},\"colorscale\":[[0.0,\"#0d0887\"],[0.1111111111111111,\"#46039f\"],[0.2222222222222222,\"#7201a8\"],[0.3333333333333333,\"#9c179e\"],[0.4444444444444444,\"#bd3786\"],[0.5555555555555556,\"#d8576b\"],[0.6666666666666666,\"#ed7953\"],[0.7777777777777778,\"#fb9f3a\"],[0.8888888888888888,\"#fdca26\"],[1.0,\"#f0f921\"]]}],\"mesh3d\":[{\"type\":\"mesh3d\",\"colorbar\":{\"outlinewidth\":0,\"ticks\":\"\"}}],\"scatter\":[{\"fillpattern\":{\"fillmode\":\"overlay\",\"size\":10,\"solidity\":0.2},\"type\":\"scatter\"}],\"parcoords\":[{\"type\":\"parcoords\",\"line\":{\"colorbar\":{\"outlinewidth\":0,\"ticks\":\"\"}}}],\"scatterpolargl\":[{\"type\":\"scatterpolargl\",\"marker\":{\"colorbar\":{\"outlinewidth\":0,\"ticks\":\"\"}}}],\"bar\":[{\"error_x\":{\"color\":\"#2a3f5f\"},\"error_y\":{\"color\":\"#2a3f5f\"},\"marker\":{\"line\":{\"color\":\"#E5ECF6\",\"width\":0.5},\"pattern\":{\"fillmode\":\"overlay\",\"size\":10,\"solidity\":0.2}},\"type\":\"bar\"}],\"scattergeo\":[{\"type\":\"scattergeo\",\"marker\":{\"colorbar\":{\"outlinewidth\":0,\"ticks\":\"\"}}}],\"scatterpolar\":[{\"type\":\"scatterpolar\",\"marker\":{\"colorbar\":{\"outlinewidth\":0,\"ticks\":\"\"}}}],\"histogram\":[{\"marker\":{\"pattern\":{\"fillmode\":\"overlay\",\"size\":10,\"solidity\":0.2}},\"type\":\"histogram\"}],\"scattergl\":[{\"type\":\"scattergl\",\"marker\":{\"colorbar\":{\"outlinewidth\":0,\"ticks\":\"\"}}}],\"scatter3d\":[{\"type\":\"scatter3d\",\"line\":{\"colorbar\":{\"outlinewidth\":0,\"ticks\":\"\"}},\"marker\":{\"colorbar\":{\"outlinewidth\":0,\"ticks\":\"\"}}}],\"scattermapbox\":[{\"type\":\"scattermapbox\",\"marker\":{\"colorbar\":{\"outlinewidth\":0,\"ticks\":\"\"}}}],\"scatterternary\":[{\"type\":\"scatterternary\",\"marker\":{\"colorbar\":{\"outlinewidth\":0,\"ticks\":\"\"}}}],\"scattercarpet\":[{\"type\":\"scattercarpet\",\"marker\":{\"colorbar\":{\"outlinewidth\":0,\"ticks\":\"\"}}}],\"carpet\":[{\"aaxis\":{\"endlinecolor\":\"#2a3f5f\",\"gridcolor\":\"white\",\"linecolor\":\"white\",\"minorgridcolor\":\"white\",\"startlinecolor\":\"#2a3f5f\"},\"baxis\":{\"endlinecolor\":\"#2a3f5f\",\"gridcolor\":\"white\",\"linecolor\":\"white\",\"minorgridcolor\":\"white\",\"startlinecolor\":\"#2a3f5f\"},\"type\":\"carpet\"}],\"table\":[{\"cells\":{\"fill\":{\"color\":\"#EBF0F8\"},\"line\":{\"color\":\"white\"}},\"header\":{\"fill\":{\"color\":\"#C8D4E3\"},\"line\":{\"color\":\"white\"}},\"type\":\"table\"}],\"barpolar\":[{\"marker\":{\"line\":{\"color\":\"#E5ECF6\",\"width\":0.5},\"pattern\":{\"fillmode\":\"overlay\",\"size\":10,\"solidity\":0.2}},\"type\":\"barpolar\"}],\"pie\":[{\"automargin\":true,\"type\":\"pie\"}]},\"layout\":{\"autotypenumbers\":\"strict\",\"colorway\":[\"#636efa\",\"#EF553B\",\"#00cc96\",\"#ab63fa\",\"#FFA15A\",\"#19d3f3\",\"#FF6692\",\"#B6E880\",\"#FF97FF\",\"#FECB52\"],\"font\":{\"color\":\"#2a3f5f\"},\"hovermode\":\"closest\",\"hoverlabel\":{\"align\":\"left\"},\"paper_bgcolor\":\"white\",\"plot_bgcolor\":\"#E5ECF6\",\"polar\":{\"bgcolor\":\"#E5ECF6\",\"angularaxis\":{\"gridcolor\":\"white\",\"linecolor\":\"white\",\"ticks\":\"\"},\"radialaxis\":{\"gridcolor\":\"white\",\"linecolor\":\"white\",\"ticks\":\"\"}},\"ternary\":{\"bgcolor\":\"#E5ECF6\",\"aaxis\":{\"gridcolor\":\"white\",\"linecolor\":\"white\",\"ticks\":\"\"},\"baxis\":{\"gridcolor\":\"white\",\"linecolor\":\"white\",\"ticks\":\"\"},\"caxis\":{\"gridcolor\":\"white\",\"linecolor\":\"white\",\"ticks\":\"\"}},\"coloraxis\":{\"colorbar\":{\"outlinewidth\":0,\"ticks\":\"\"}},\"colorscale\":{\"sequential\":[[0.0,\"#0d0887\"],[0.1111111111111111,\"#46039f\"],[0.2222222222222222,\"#7201a8\"],[0.3333333333333333,\"#9c179e\"],[0.4444444444444444,\"#bd3786\"],[0.5555555555555556,\"#d8576b\"],[0.6666666666666666,\"#ed7953\"],[0.7777777777777778,\"#fb9f3a\"],[0.8888888888888888,\"#fdca26\"],[1.0,\"#f0f921\"]],\"sequentialminus\":[[0.0,\"#0d0887\"],[0.1111111111111111,\"#46039f\"],[0.2222222222222222,\"#7201a8\"],[0.3333333333333333,\"#9c179e\"],[0.4444444444444444,\"#bd3786\"],[0.5555555555555556,\"#d8576b\"],[0.6666666666666666,\"#ed7953\"],[0.7777777777777778,\"#fb9f3a\"],[0.8888888888888888,\"#fdca26\"],[1.0,\"#f0f921\"]],\"diverging\":[[0,\"#8e0152\"],[0.1,\"#c51b7d\"],[0.2,\"#de77ae\"],[0.3,\"#f1b6da\"],[0.4,\"#fde0ef\"],[0.5,\"#f7f7f7\"],[0.6,\"#e6f5d0\"],[0.7,\"#b8e186\"],[0.8,\"#7fbc41\"],[0.9,\"#4d9221\"],[1,\"#276419\"]]},\"xaxis\":{\"gridcolor\":\"white\",\"linecolor\":\"white\",\"ticks\":\"\",\"title\":{\"standoff\":15},\"zerolinecolor\":\"white\",\"automargin\":true,\"zerolinewidth\":2},\"yaxis\":{\"gridcolor\":\"white\",\"linecolor\":\"white\",\"ticks\":\"\",\"title\":{\"standoff\":15},\"zerolinecolor\":\"white\",\"automargin\":true,\"zerolinewidth\":2},\"scene\":{\"xaxis\":{\"backgroundcolor\":\"#E5ECF6\",\"gridcolor\":\"white\",\"linecolor\":\"white\",\"showbackground\":true,\"ticks\":\"\",\"zerolinecolor\":\"white\",\"gridwidth\":2},\"yaxis\":{\"backgroundcolor\":\"#E5ECF6\",\"gridcolor\":\"white\",\"linecolor\":\"white\",\"showbackground\":true,\"ticks\":\"\",\"zerolinecolor\":\"white\",\"gridwidth\":2},\"zaxis\":{\"backgroundcolor\":\"#E5ECF6\",\"gridcolor\":\"white\",\"linecolor\":\"white\",\"showbackground\":true,\"ticks\":\"\",\"zerolinecolor\":\"white\",\"gridwidth\":2}},\"shapedefaults\":{\"line\":{\"color\":\"#2a3f5f\"}},\"annotationdefaults\":{\"arrowcolor\":\"#2a3f5f\",\"arrowhead\":0,\"arrowwidth\":1},\"geo\":{\"bgcolor\":\"white\",\"landcolor\":\"#E5ECF6\",\"subunitcolor\":\"white\",\"showland\":true,\"showlakes\":true,\"lakecolor\":\"white\"},\"title\":{\"x\":0.05},\"mapbox\":{\"style\":\"light\"}}},\"xaxis\":{\"anchor\":\"y\",\"domain\":[0.0,1.0],\"title\":{\"text\":\"Rating\"}},\"yaxis\":{\"anchor\":\"x\",\"domain\":[0.0,1.0],\"title\":{\"text\":\"Sentiment Score\"}},\"legend\":{\"tracegroupgap\":0},\"title\":{\"text\":\"Game Rating vs Sentiment Score\"}},                        {\"responsive\": true}                    ).then(function(){\n",
              "                            \n",
              "var gd = document.getElementById('c5745586-3a8e-4239-a6d8-08306bef9898');\n",
              "var x = new MutationObserver(function (mutations, observer) {{\n",
              "        var display = window.getComputedStyle(gd).display;\n",
              "        if (!display || display === 'none') {{\n",
              "            console.log([gd, 'removed!']);\n",
              "            Plotly.purge(gd);\n",
              "            observer.disconnect();\n",
              "        }}\n",
              "}});\n",
              "\n",
              "// Listen for the removal of the full notebook cells\n",
              "var notebookContainer = gd.closest('#notebook-container');\n",
              "if (notebookContainer) {{\n",
              "    x.observe(notebookContainer, {childList: true});\n",
              "}}\n",
              "\n",
              "// Listen for the clearing of the current output cell\n",
              "var outputEl = gd.closest('.output');\n",
              "if (outputEl) {{\n",
              "    x.observe(outputEl, {childList: true});\n",
              "}}\n",
              "\n",
              "                        })                };                            </script>        </div>\n",
              "</body>\n",
              "</html>"
            ]
          },
          "metadata": {}
        }
      ]
    },
    {
      "cell_type": "code",
      "source": [
        "\n",
        "# Create an interactive box plot using Plotly\n",
        "fig = px.box(df1, x='Rating', y='Sentiment Score', title='Game Rating vs Sentiment Score',\n",
        "             labels={'sentiment': 'Sentiment Score'},\n",
        "             color_discrete_sequence=['red'])\n",
        "\n",
        "# Show the plot\n",
        "fig.show()"
      ],
      "metadata": {
        "colab": {
          "base_uri": "https://localhost:8080/",
          "height": 542
        },
        "id": "NCspdF4vTPsG",
        "outputId": "44b10731-4815-4c39-dfa6-1d87cea48362"
      },
      "execution_count": 21,
      "outputs": [
        {
          "output_type": "display_data",
          "data": {
            "text/html": [
              "<html>\n",
              "<head><meta charset=\"utf-8\" /></head>\n",
              "<body>\n",
              "    <div>            <script src=\"https://cdnjs.cloudflare.com/ajax/libs/mathjax/2.7.5/MathJax.js?config=TeX-AMS-MML_SVG\"></script><script type=\"text/javascript\">if (window.MathJax && window.MathJax.Hub && window.MathJax.Hub.Config) {window.MathJax.Hub.Config({SVG: {font: \"STIX-Web\"}});}</script>                <script type=\"text/javascript\">window.PlotlyConfig = {MathJaxConfig: 'local'};</script>\n",
              "        <script charset=\"utf-8\" src=\"https://cdn.plot.ly/plotly-2.24.1.min.js\"></script>                <div id=\"d0f60e78-c122-41ca-9e3b-ad6f47b13c53\" class=\"plotly-graph-div\" style=\"height:525px; width:100%;\"></div>            <script type=\"text/javascript\">                                    window.PLOTLYENV=window.PLOTLYENV || {};                                    if (document.getElementById(\"d0f60e78-c122-41ca-9e3b-ad6f47b13c53\")) {                    Plotly.newPlot(                        \"d0f60e78-c122-41ca-9e3b-ad6f47b13c53\",                        [{\"alignmentgroup\":\"True\",\"hovertemplate\":\"Rating=%{x}\\u003cbr\\u003eSentiment Score=%{y}\\u003cextra\\u003e\\u003c\\u002fextra\\u003e\",\"legendgroup\":\"\",\"marker\":{\"color\":\"red\"},\"name\":\"\",\"notched\":false,\"offsetgroup\":\"\",\"orientation\":\"v\",\"showlegend\":false,\"x\":[1.0,5.0,5.0,4.0,5.0,5.0,5.0,5.0,5.0,5.0,5.0,5.0,5.0,5.0,3.0,4.0,5.0,4.0,1.0,5.0,5.0,5.0,5.0,3.0,5.0,5.0,3.0,5.0,5.0,3.0,5.0,5.0,2.0,4.0,4.0,5.0,5.0,5.0,5.0,5.0,5.0,5.0,2.0,5.0,1.0,5.0,2.0,4.0,5.0,5.0,5.0,5.0,5.0,2.0,4.0,5.0,5.0,1.0,5.0,1.0,1.0,5.0,5.0,5.0,5.0,5.0,4.0,4.0,3.0,5.0,5.0,5.0,5.0,3.0,5.0,5.0,5.0,4.0,5.0,4.0,5.0,2.0,5.0,2.0,5.0,5.0,4.0,5.0,5.0,5.0,5.0,2.0,5.0,5.0,5.0,1.0,5.0,2.0,5.0,4.0,5.0,5.0,5.0,3.0,5.0,5.0,5.0,3.0,4.0,5.0,5.0,2.0,5.0,1.0,5.0,1.0,5.0,5.0,5.0,5.0,5.0,5.0,5.0,5.0,1.0,5.0,3.0,5.0,5.0,5.0,4.0,5.0,2.0,2.0,5.0,5.0,1.0,2.0,5.0,5.0,4.0,5.0,5.0,5.0,5.0,5.0,5.0,5.0,5.0,3.0,2.0,5.0,1.0,1.0,5.0,5.0,3.0,5.0,5.0,5.0,1.0,5.0,5.0,2.0,1.0,5.0,4.0,5.0,5.0,1.0,5.0,2.0,5.0,3.0,5.0,5.0,5.0,5.0,5.0,4.0,5.0,1.0,5.0,1.0,5.0,1.0,5.0,5.0,5.0,4.0,5.0,5.0,2.0,1.0,2.0,5.0,5.0,4.0,5.0,5.0,1.0,1.0,5.0,1.0,5.0,5.0,1.0,5.0,5.0,5.0,5.0,5.0,5.0,2.0,4.0,5.0,1.0,5.0,4.0,5.0,5.0,5.0,5.0,5.0,5.0,1.0,4.0,5.0,1.0,5.0,4.0,5.0,5.0,5.0,5.0,5.0,5.0,1.0,1.0,5.0,5.0,1.0,5.0,4.0,1.0,3.0,5.0,5.0,5.0,5.0],\"x0\":\" \",\"xaxis\":\"x\",\"y\":[0.06250000000000001,-0.3499999999999999,0.075,-0.16111111111111112,-0.11205357142857143,1.0,0.22888888888888886,0.8083333333333333,0.0,0.5,0.49375,1.0,0.20681818181818185,0.024421068796068788,0.3,0.175,0.6,0.08313932595182597,0.17393939393939392,0.8,0.3333333333333333,0.5777777777777778,1.0,0.05,0.25999999999999995,0.11515151515151514,0.15817460317460316,0.2866666666666667,0.1309523809523809,0.06666666666666667,0.14285714285714285,0.12348484848484848,0.15824175824175823,0.13034188034188035,0.8,0.31253968253968256,0.0,0.2833333333333333,0.0,0.5340909090909091,0.8,1.0,-0.010101010101010102,0.225,-0.20833333333333337,0.0,0.15000000000000002,0.148125,0.6,0.0,0.8,0.25,0.8,0.0840909090909091,0.040000000000000056,0.65,0.08611111111111112,0.1369047619047619,0.02177486359126984,0.09375,-0.08333333333333333,0.0,-0.025,0.1787878787878788,-0.4,0.0,0.22000000000000003,0.03958333333333335,0.0,0.6510416666666665,0.9,0.6416666666666667,0.34238095238095234,0.032852633477633474,0.9099999999999999,0.35000000000000003,0.14523809523809522,0.0,0.17666666666666667,0.25,0.2,-0.10416666666666667,0.07608695652173914,0.43333333333333335,0.36,0.23703703703703707,0.26785714285714285,0.14999999999999997,0.3283333333333333,0.3,0.4715909090909091,0.11905355097365415,0.875,-0.040000000000000015,0.275,-0.8,0.5,0.8,-0.2,0.134375,0.3508333333333334,0.35000000000000003,0.6083333333333334,0.26537037037037037,0.33194444444444443,1.0,0.109375,0.13333333333333333,0.1418243243243243,0.29166666666666663,0.35,0.21581018518518522,0.37411255411255406,0.0,0.5231250000000001,-0.06025641025641025,0.17916666666666667,0.15043290043290045,0.12291666666666667,0.8,0.1,0.5,0.3666666666666667,1.0,0.15000000000000002,0.5953645833333334,0.175,0.7500000000000001,0.4166666666666667,0.7,0.36,0.0,0.07999999999999999,0.44999999999999996,0.0,0.5333333333333333,-0.0976190476190476,0.43333333333333335,-0.035,0.4611111111111111,0.24166666666666664,0.6833333333333333,0.09166666666666667,0.125,1.0,0.2,0.303125,0.6000000000000001,0.15863636363636352,0.20104866397969848,-0.111142400683217,0.25,0.28250000000000003,-0.14166666666666664,0.26687500000000003,0.4708333333333334,0.10892857142857147,0.4666666666666666,-0.07291666666666666,0.525,-0.16666666666666666,0.8,0.0,-0.4,0.07142857142857142,0.0,0.4166666666666667,0.06607142857142857,0.0,0.1,0.0,2.7755575615628914e-17,0.28611111111111115,0.6,0.9,0.8,0.55,0.10078076685219543,0.125,0.7,0.0,-0.05722222222222223,0.0,0.012857142857142876,0.5166666666666667,0.020454545454545472,0.44583333333333336,1.0,0.2,0.0,0.4000000000000001,0.0,-0.06958333333333333,-0.1416666666666667,0.25476190476190474,1.0,0.2,0.23210279304029305,0.7,0.1351190476190476,-0.3666666666666667,0.0,0.1333333333333333,0.0,0.2333333333333333,0.4,-0.19895833333333335,0.8,0.8,0.16499999999999998,0.0,0.21666666666666667,0.24848484848484848,-0.06813725490196078,0.12716666666666668,0.1,-0.2373636363636363,0.3625,0.3,0.6,0.5604166666666667,0.0,0.3856060606060606,0.0,0.575,0.09938822751322751,0.44999999999999996,0.39722222222222225,0.0,0.05880589107861836,0.08257575757575757,0.6166666666666667,0.4,0.265,0.275,1.0,0.6103515625,-0.48828125,0.37916666666666665,0.65625,0.016666666666666653,-0.575,-0.11060606060606061,0.3805555555555556,-0.033164983164983175,0.12535382257516012,0.5,0.4047619047619047,0.29545454545454547,0.0],\"y0\":\" \",\"yaxis\":\"y\",\"type\":\"box\"}],                        {\"template\":{\"data\":{\"histogram2dcontour\":[{\"type\":\"histogram2dcontour\",\"colorbar\":{\"outlinewidth\":0,\"ticks\":\"\"},\"colorscale\":[[0.0,\"#0d0887\"],[0.1111111111111111,\"#46039f\"],[0.2222222222222222,\"#7201a8\"],[0.3333333333333333,\"#9c179e\"],[0.4444444444444444,\"#bd3786\"],[0.5555555555555556,\"#d8576b\"],[0.6666666666666666,\"#ed7953\"],[0.7777777777777778,\"#fb9f3a\"],[0.8888888888888888,\"#fdca26\"],[1.0,\"#f0f921\"]]}],\"choropleth\":[{\"type\":\"choropleth\",\"colorbar\":{\"outlinewidth\":0,\"ticks\":\"\"}}],\"histogram2d\":[{\"type\":\"histogram2d\",\"colorbar\":{\"outlinewidth\":0,\"ticks\":\"\"},\"colorscale\":[[0.0,\"#0d0887\"],[0.1111111111111111,\"#46039f\"],[0.2222222222222222,\"#7201a8\"],[0.3333333333333333,\"#9c179e\"],[0.4444444444444444,\"#bd3786\"],[0.5555555555555556,\"#d8576b\"],[0.6666666666666666,\"#ed7953\"],[0.7777777777777778,\"#fb9f3a\"],[0.8888888888888888,\"#fdca26\"],[1.0,\"#f0f921\"]]}],\"heatmap\":[{\"type\":\"heatmap\",\"colorbar\":{\"outlinewidth\":0,\"ticks\":\"\"},\"colorscale\":[[0.0,\"#0d0887\"],[0.1111111111111111,\"#46039f\"],[0.2222222222222222,\"#7201a8\"],[0.3333333333333333,\"#9c179e\"],[0.4444444444444444,\"#bd3786\"],[0.5555555555555556,\"#d8576b\"],[0.6666666666666666,\"#ed7953\"],[0.7777777777777778,\"#fb9f3a\"],[0.8888888888888888,\"#fdca26\"],[1.0,\"#f0f921\"]]}],\"heatmapgl\":[{\"type\":\"heatmapgl\",\"colorbar\":{\"outlinewidth\":0,\"ticks\":\"\"},\"colorscale\":[[0.0,\"#0d0887\"],[0.1111111111111111,\"#46039f\"],[0.2222222222222222,\"#7201a8\"],[0.3333333333333333,\"#9c179e\"],[0.4444444444444444,\"#bd3786\"],[0.5555555555555556,\"#d8576b\"],[0.6666666666666666,\"#ed7953\"],[0.7777777777777778,\"#fb9f3a\"],[0.8888888888888888,\"#fdca26\"],[1.0,\"#f0f921\"]]}],\"contourcarpet\":[{\"type\":\"contourcarpet\",\"colorbar\":{\"outlinewidth\":0,\"ticks\":\"\"}}],\"contour\":[{\"type\":\"contour\",\"colorbar\":{\"outlinewidth\":0,\"ticks\":\"\"},\"colorscale\":[[0.0,\"#0d0887\"],[0.1111111111111111,\"#46039f\"],[0.2222222222222222,\"#7201a8\"],[0.3333333333333333,\"#9c179e\"],[0.4444444444444444,\"#bd3786\"],[0.5555555555555556,\"#d8576b\"],[0.6666666666666666,\"#ed7953\"],[0.7777777777777778,\"#fb9f3a\"],[0.8888888888888888,\"#fdca26\"],[1.0,\"#f0f921\"]]}],\"surface\":[{\"type\":\"surface\",\"colorbar\":{\"outlinewidth\":0,\"ticks\":\"\"},\"colorscale\":[[0.0,\"#0d0887\"],[0.1111111111111111,\"#46039f\"],[0.2222222222222222,\"#7201a8\"],[0.3333333333333333,\"#9c179e\"],[0.4444444444444444,\"#bd3786\"],[0.5555555555555556,\"#d8576b\"],[0.6666666666666666,\"#ed7953\"],[0.7777777777777778,\"#fb9f3a\"],[0.8888888888888888,\"#fdca26\"],[1.0,\"#f0f921\"]]}],\"mesh3d\":[{\"type\":\"mesh3d\",\"colorbar\":{\"outlinewidth\":0,\"ticks\":\"\"}}],\"scatter\":[{\"fillpattern\":{\"fillmode\":\"overlay\",\"size\":10,\"solidity\":0.2},\"type\":\"scatter\"}],\"parcoords\":[{\"type\":\"parcoords\",\"line\":{\"colorbar\":{\"outlinewidth\":0,\"ticks\":\"\"}}}],\"scatterpolargl\":[{\"type\":\"scatterpolargl\",\"marker\":{\"colorbar\":{\"outlinewidth\":0,\"ticks\":\"\"}}}],\"bar\":[{\"error_x\":{\"color\":\"#2a3f5f\"},\"error_y\":{\"color\":\"#2a3f5f\"},\"marker\":{\"line\":{\"color\":\"#E5ECF6\",\"width\":0.5},\"pattern\":{\"fillmode\":\"overlay\",\"size\":10,\"solidity\":0.2}},\"type\":\"bar\"}],\"scattergeo\":[{\"type\":\"scattergeo\",\"marker\":{\"colorbar\":{\"outlinewidth\":0,\"ticks\":\"\"}}}],\"scatterpolar\":[{\"type\":\"scatterpolar\",\"marker\":{\"colorbar\":{\"outlinewidth\":0,\"ticks\":\"\"}}}],\"histogram\":[{\"marker\":{\"pattern\":{\"fillmode\":\"overlay\",\"size\":10,\"solidity\":0.2}},\"type\":\"histogram\"}],\"scattergl\":[{\"type\":\"scattergl\",\"marker\":{\"colorbar\":{\"outlinewidth\":0,\"ticks\":\"\"}}}],\"scatter3d\":[{\"type\":\"scatter3d\",\"line\":{\"colorbar\":{\"outlinewidth\":0,\"ticks\":\"\"}},\"marker\":{\"colorbar\":{\"outlinewidth\":0,\"ticks\":\"\"}}}],\"scattermapbox\":[{\"type\":\"scattermapbox\",\"marker\":{\"colorbar\":{\"outlinewidth\":0,\"ticks\":\"\"}}}],\"scatterternary\":[{\"type\":\"scatterternary\",\"marker\":{\"colorbar\":{\"outlinewidth\":0,\"ticks\":\"\"}}}],\"scattercarpet\":[{\"type\":\"scattercarpet\",\"marker\":{\"colorbar\":{\"outlinewidth\":0,\"ticks\":\"\"}}}],\"carpet\":[{\"aaxis\":{\"endlinecolor\":\"#2a3f5f\",\"gridcolor\":\"white\",\"linecolor\":\"white\",\"minorgridcolor\":\"white\",\"startlinecolor\":\"#2a3f5f\"},\"baxis\":{\"endlinecolor\":\"#2a3f5f\",\"gridcolor\":\"white\",\"linecolor\":\"white\",\"minorgridcolor\":\"white\",\"startlinecolor\":\"#2a3f5f\"},\"type\":\"carpet\"}],\"table\":[{\"cells\":{\"fill\":{\"color\":\"#EBF0F8\"},\"line\":{\"color\":\"white\"}},\"header\":{\"fill\":{\"color\":\"#C8D4E3\"},\"line\":{\"color\":\"white\"}},\"type\":\"table\"}],\"barpolar\":[{\"marker\":{\"line\":{\"color\":\"#E5ECF6\",\"width\":0.5},\"pattern\":{\"fillmode\":\"overlay\",\"size\":10,\"solidity\":0.2}},\"type\":\"barpolar\"}],\"pie\":[{\"automargin\":true,\"type\":\"pie\"}]},\"layout\":{\"autotypenumbers\":\"strict\",\"colorway\":[\"#636efa\",\"#EF553B\",\"#00cc96\",\"#ab63fa\",\"#FFA15A\",\"#19d3f3\",\"#FF6692\",\"#B6E880\",\"#FF97FF\",\"#FECB52\"],\"font\":{\"color\":\"#2a3f5f\"},\"hovermode\":\"closest\",\"hoverlabel\":{\"align\":\"left\"},\"paper_bgcolor\":\"white\",\"plot_bgcolor\":\"#E5ECF6\",\"polar\":{\"bgcolor\":\"#E5ECF6\",\"angularaxis\":{\"gridcolor\":\"white\",\"linecolor\":\"white\",\"ticks\":\"\"},\"radialaxis\":{\"gridcolor\":\"white\",\"linecolor\":\"white\",\"ticks\":\"\"}},\"ternary\":{\"bgcolor\":\"#E5ECF6\",\"aaxis\":{\"gridcolor\":\"white\",\"linecolor\":\"white\",\"ticks\":\"\"},\"baxis\":{\"gridcolor\":\"white\",\"linecolor\":\"white\",\"ticks\":\"\"},\"caxis\":{\"gridcolor\":\"white\",\"linecolor\":\"white\",\"ticks\":\"\"}},\"coloraxis\":{\"colorbar\":{\"outlinewidth\":0,\"ticks\":\"\"}},\"colorscale\":{\"sequential\":[[0.0,\"#0d0887\"],[0.1111111111111111,\"#46039f\"],[0.2222222222222222,\"#7201a8\"],[0.3333333333333333,\"#9c179e\"],[0.4444444444444444,\"#bd3786\"],[0.5555555555555556,\"#d8576b\"],[0.6666666666666666,\"#ed7953\"],[0.7777777777777778,\"#fb9f3a\"],[0.8888888888888888,\"#fdca26\"],[1.0,\"#f0f921\"]],\"sequentialminus\":[[0.0,\"#0d0887\"],[0.1111111111111111,\"#46039f\"],[0.2222222222222222,\"#7201a8\"],[0.3333333333333333,\"#9c179e\"],[0.4444444444444444,\"#bd3786\"],[0.5555555555555556,\"#d8576b\"],[0.6666666666666666,\"#ed7953\"],[0.7777777777777778,\"#fb9f3a\"],[0.8888888888888888,\"#fdca26\"],[1.0,\"#f0f921\"]],\"diverging\":[[0,\"#8e0152\"],[0.1,\"#c51b7d\"],[0.2,\"#de77ae\"],[0.3,\"#f1b6da\"],[0.4,\"#fde0ef\"],[0.5,\"#f7f7f7\"],[0.6,\"#e6f5d0\"],[0.7,\"#b8e186\"],[0.8,\"#7fbc41\"],[0.9,\"#4d9221\"],[1,\"#276419\"]]},\"xaxis\":{\"gridcolor\":\"white\",\"linecolor\":\"white\",\"ticks\":\"\",\"title\":{\"standoff\":15},\"zerolinecolor\":\"white\",\"automargin\":true,\"zerolinewidth\":2},\"yaxis\":{\"gridcolor\":\"white\",\"linecolor\":\"white\",\"ticks\":\"\",\"title\":{\"standoff\":15},\"zerolinecolor\":\"white\",\"automargin\":true,\"zerolinewidth\":2},\"scene\":{\"xaxis\":{\"backgroundcolor\":\"#E5ECF6\",\"gridcolor\":\"white\",\"linecolor\":\"white\",\"showbackground\":true,\"ticks\":\"\",\"zerolinecolor\":\"white\",\"gridwidth\":2},\"yaxis\":{\"backgroundcolor\":\"#E5ECF6\",\"gridcolor\":\"white\",\"linecolor\":\"white\",\"showbackground\":true,\"ticks\":\"\",\"zerolinecolor\":\"white\",\"gridwidth\":2},\"zaxis\":{\"backgroundcolor\":\"#E5ECF6\",\"gridcolor\":\"white\",\"linecolor\":\"white\",\"showbackground\":true,\"ticks\":\"\",\"zerolinecolor\":\"white\",\"gridwidth\":2}},\"shapedefaults\":{\"line\":{\"color\":\"#2a3f5f\"}},\"annotationdefaults\":{\"arrowcolor\":\"#2a3f5f\",\"arrowhead\":0,\"arrowwidth\":1},\"geo\":{\"bgcolor\":\"white\",\"landcolor\":\"#E5ECF6\",\"subunitcolor\":\"white\",\"showland\":true,\"showlakes\":true,\"lakecolor\":\"white\"},\"title\":{\"x\":0.05},\"mapbox\":{\"style\":\"light\"}}},\"xaxis\":{\"anchor\":\"y\",\"domain\":[0.0,1.0],\"title\":{\"text\":\"Rating\"}},\"yaxis\":{\"anchor\":\"x\",\"domain\":[0.0,1.0],\"title\":{\"text\":\"Sentiment Score\"}},\"legend\":{\"tracegroupgap\":0},\"title\":{\"text\":\"Game Rating vs Sentiment Score\"},\"boxmode\":\"group\"},                        {\"responsive\": true}                    ).then(function(){\n",
              "                            \n",
              "var gd = document.getElementById('d0f60e78-c122-41ca-9e3b-ad6f47b13c53');\n",
              "var x = new MutationObserver(function (mutations, observer) {{\n",
              "        var display = window.getComputedStyle(gd).display;\n",
              "        if (!display || display === 'none') {{\n",
              "            console.log([gd, 'removed!']);\n",
              "            Plotly.purge(gd);\n",
              "            observer.disconnect();\n",
              "        }}\n",
              "}});\n",
              "\n",
              "// Listen for the removal of the full notebook cells\n",
              "var notebookContainer = gd.closest('#notebook-container');\n",
              "if (notebookContainer) {{\n",
              "    x.observe(notebookContainer, {childList: true});\n",
              "}}\n",
              "\n",
              "// Listen for the clearing of the current output cell\n",
              "var outputEl = gd.closest('.output');\n",
              "if (outputEl) {{\n",
              "    x.observe(outputEl, {childList: true});\n",
              "}}\n",
              "\n",
              "                        })                };                            </script>        </div>\n",
              "</body>\n",
              "</html>"
            ]
          },
          "metadata": {}
        }
      ]
    },
    {
      "cell_type": "markdown",
      "source": [
        "Temporal trends (Number of reviews over time)"
      ],
      "metadata": {
        "id": "P2QhyUTVZJfl"
      }
    },
    {
      "cell_type": "code",
      "source": [
        "df['timestamp'] = pd.to_datetime(df['timestamp'], unit='ms')\n",
        "\n",
        "# Extract year and month from the timestamp\n",
        "df['year'] = df['timestamp'].dt.year\n",
        "df['month'] = df['timestamp'].dt.month\n",
        "\n",
        "# Plot the number of reviews over time\n",
        "plt.figure(figsize=(10, 6))\n",
        "df.groupby('year')['rating'].count().plot(kind='line', marker='o')\n",
        "plt.title('Number of Reviews Over Time')\n",
        "plt.xlabel('Year')\n",
        "plt.ylabel('Number of Reviews')\n",
        "plt.grid(True)\n",
        "plt.show()"
      ],
      "metadata": {
        "colab": {
          "base_uri": "https://localhost:8080/",
          "height": 564
        },
        "id": "AGiVNljbWzHB",
        "outputId": "e9b3d28e-d6a9-4ae6-aee8-b354cdc972b5"
      },
      "execution_count": 22,
      "outputs": [
        {
          "output_type": "display_data",
          "data": {
            "text/plain": [
              "<Figure size 1000x600 with 1 Axes>"
            ],
            "image/png": "[encoded data removed]"
          },
          "metadata": {}
        }
      ]
    },
    {
      "cell_type": "markdown",
      "source": [
        "Credibility assessment"
      ],
      "metadata": {
        "id": "Y3aBkVs0Z2AU"
      }
    },
    {
      "cell_type": "code",
      "source": [
        "#label encoding the categorical variables\n",
        "\n",
        "from sklearn.preprocessing import LabelEncoder\n",
        "label_encoder = LabelEncoder()\n",
        "df['rating_encoded'] = label_encoder.fit_transform(df['rating'])\n",
        "df['text_encoded'] = label_encoder.fit_transform(df['text'])\n",
        "df['verified_purchased_encoded'] = label_encoder.fit_transform(df['verified_purchase'])"
      ],
      "metadata": {
        "id": "9PStEKwFaA9y"
      },
      "execution_count": 23,
      "outputs": []
    },
    {
      "cell_type": "code",
      "source": [
        "#Assigning the independed variables and target variable\n",
        "\n",
        "X = df[['rating', 'text_encoded', 'sentiment']]\n",
        "y = df['verified_purchased_encoded']"
      ],
      "metadata": {
        "id": "07FmFDx3f_dL"
      },
      "execution_count": 24,
      "outputs": []
    },
    {
      "cell_type": "code",
      "source": [
        "from sklearn.model_selection import train_test_split\n",
        "from sklearn.linear_model import LogisticRegression\n",
        "from sklearn.ensemble import GradientBoostingClassifier\n",
        "from sklearn.metrics import confusion_matrix, precision_score, recall_score, f1_score,accuracy_score, roc_curve, roc_auc_score"
      ],
      "metadata": {
        "id": "AUhjLNEqgpi9"
      },
      "execution_count": 25,
      "outputs": []
    },
    {
      "cell_type": "code",
      "source": [
        "X_train, X_test, y_train, y_test = train_test_split(X, y, test_size = 0.2, random_state = 42)"
      ],
      "metadata": {
        "id": "nUqZDGLThSDT"
      },
      "execution_count": 26,
      "outputs": []
    },
    {
      "cell_type": "code",
      "source": [
        "logit_model = LogisticRegression()\n",
        "logit_model.fit(X_train, y_train)"
      ],
      "metadata": {
        "colab": {
          "base_uri": "https://localhost:8080/",
          "height": 75
        },
        "id": "rSrMY4Vmh4fD",
        "outputId": "10aa0939-05be-4936-8952-85c8f9c472bc"
      },
      "execution_count": 27,
      "outputs": [
        {
          "output_type": "execute_result",
          "data": {
            "text/plain": [
              "LogisticRegression()"
            ],
            "text/html": [
              "<style>#sk-container-id-1 {color: black;background-color: white;}#sk-container-id-1 pre{padding: 0;}#sk-container-id-1 div.sk-toggleable {background-color: white;}#sk-container-id-1 label.sk-toggleable__label {cursor: pointer;display: block;width: 100%;margin-bottom: 0;padding: 0.3em;box-sizing: border-box;text-align: center;}#sk-container-id-1 label.sk-toggleable__label-arrow:before {content: \"▸\";float: left;margin-right: 0.25em;color: #696969;}#sk-container-id-1 label.sk-toggleable__label-arrow:hover:before {color: black;}#sk-container-id-1 div.sk-estimator:hover label.sk-toggleable__label-arrow:before {color: black;}#sk-container-id-1 div.sk-toggleable__content {max-height: 0;max-width: 0;overflow: hidden;text-align: left;background-color: #f0f8ff;}#sk-container-id-1 div.sk-toggleable__content pre {margin: 0.2em;color: black;border-radius: 0.25em;background-color: #f0f8ff;}#sk-container-id-1 input.sk-toggleable__control:checked~div.sk-toggleable__content {max-height: 200px;max-width: 100%;overflow: auto;}#sk-container-id-1 input.sk-toggleable__control:checked~label.sk-toggleable__label-arrow:before {content: \"▾\";}#sk-container-id-1 div.sk-estimator input.sk-toggleable__control:checked~label.sk-toggleable__label {background-color: #d4ebff;}#sk-container-id-1 div.sk-label input.sk-toggleable__control:checked~label.sk-toggleable__label {background-color: #d4ebff;}#sk-container-id-1 input.sk-hidden--visually {border: 0;clip: rect(1px 1px 1px 1px);clip: rect(1px, 1px, 1px, 1px);height: 1px;margin: -1px;overflow: hidden;padding: 0;position: absolute;width: 1px;}#sk-container-id-1 div.sk-estimator {font-family: monospace;background-color: #f0f8ff;border: 1px dotted black;border-radius: 0.25em;box-sizing: border-box;margin-bottom: 0.5em;}#sk-container-id-1 div.sk-estimator:hover {background-color: #d4ebff;}#sk-container-id-1 div.sk-parallel-item::after {content: \"\";width: 100%;border-bottom: 1px solid gray;flex-grow: 1;}#sk-container-id-1 div.sk-label:hover label.sk-toggleable__label {background-color: #d4ebff;}#sk-container-id-1 div.sk-serial::before {content: \"\";position: absolute;border-left: 1px solid gray;box-sizing: border-box;top: 0;bottom: 0;left: 50%;z-index: 0;}#sk-container-id-1 div.sk-serial {display: flex;flex-direction: column;align-items: center;background-color: white;padding-right: 0.2em;padding-left: 0.2em;position: relative;}#sk-container-id-1 div.sk-item {position: relative;z-index: 1;}#sk-container-id-1 div.sk-parallel {display: flex;align-items: stretch;justify-content: center;background-color: white;position: relative;}#sk-container-id-1 div.sk-item::before, #sk-container-id-1 div.sk-parallel-item::before {content: \"\";position: absolute;border-left: 1px solid gray;box-sizing: border-box;top: 0;bottom: 0;left: 50%;z-index: -1;}#sk-container-id-1 div.sk-parallel-item {display: flex;flex-direction: column;z-index: 1;position: relative;background-color: white;}#sk-container-id-1 div.sk-parallel-item:first-child::after {align-self: flex-end;width: 50%;}#sk-container-id-1 div.sk-parallel-item:last-child::after {align-self: flex-start;width: 50%;}#sk-container-id-1 div.sk-parallel-item:only-child::after {width: 0;}#sk-container-id-1 div.sk-dashed-wrapped {border: 1px dashed gray;margin: 0 0.4em 0.5em 0.4em;box-sizing: border-box;padding-bottom: 0.4em;background-color: white;}#sk-container-id-1 div.sk-label label {font-family: monospace;font-weight: bold;display: inline-block;line-height: 1.2em;}#sk-container-id-1 div.sk-label-container {text-align: center;}#sk-container-id-1 div.sk-container {/* jupyter's `normalize.less` sets `[hidden] { display: none; }` but bootstrap.min.css set `[hidden] { display: none !important; }` so we also need the `!important` here to be able to override the default hidden behavior on the sphinx rendered scikit-learn.org. See: https://github.com/scikit-learn/scikit-learn/issues/21755 */display: inline-block !important;position: relative;}#sk-container-id-1 div.sk-text-repr-fallback {display: none;}</style><div id=\"sk-container-id-1\" class=\"sk-top-container\"><div class=\"sk-text-repr-fallback\"><pre>LogisticRegression()</pre><b>In a Jupyter environment, please rerun this cell to show the HTML representation or trust the notebook. <br />On GitHub, the HTML representation is unable to render, please try loading this page with nbviewer.org.</b></div><div class=\"sk-container\" hidden><div class=\"sk-item\"><div class=\"sk-estimator sk-toggleable\"><input class=\"sk-toggleable__control sk-hidden--visually\" id=\"sk-estimator-id-1\" type=\"checkbox\" checked><label for=\"sk-estimator-id-1\" class=\"sk-toggleable__label sk-toggleable__label-arrow\">LogisticRegression</label><div class=\"sk-toggleable__content\"><pre>LogisticRegression()</pre></div></div></div></div></div>"
            ]
          },
          "metadata": {},
          "execution_count": 27
        }
      ]
    },
    {
      "cell_type": "code",
      "source": [
        "y_pred = logit_model.predict(X_test)\n",
        "y_pred_prob = logit_model.predict_proba(X_test)"
      ],
      "metadata": {
        "id": "OK_jkttkicR6"
      },
      "execution_count": 28,
      "outputs": []
    },
    {
      "cell_type": "code",
      "source": [
        "y_pred_prob_pos = y_pred_prob[:, 1]"
      ],
      "metadata": {
        "id": "Rp6zLKPp_k75"
      },
      "execution_count": 29,
      "outputs": []
    },
    {
      "cell_type": "code",
      "source": [
        "print(\"The confusion matrix is \\n\", confusion_matrix(y_test, y_pred))\n",
        "\n",
        "print(\"\\nThe precision is \", precision_score(y_test, y_pred))\n",
        "\n",
        "print(\"\\nThe recall score is \", recall_score(y_test, y_pred))\n",
        "\n",
        "print(\"\\nThe F-1 score is \", f1_score(y_test, y_pred))\n",
        "\n",
        "print(\"\\nThe accuracy is \", accuracy_score(y_test, y_pred))\n",
        "\n",
        "fpr, tpr, thresholds = roc_curve(y_test, y_pred_prob_pos)\n",
        "\n",
        "auc_roc = roc_auc_score(y_test, y_pred_prob_pos)\n"
      ],
      "metadata": {
        "colab": {
          "base_uri": "https://localhost:8080/"
        },
        "id": "bBxAEf9ei8ZB",
        "outputId": "a9fb7e46-53a4-4678-af54-b41d459b28c2"
      },
      "execution_count": 30,
      "outputs": [
        {
          "output_type": "stream",
          "name": "stdout",
          "text": [
            "The confusion matrix is \n",
            " [[ 0  3]\n",
            " [ 0 47]]\n",
            "\n",
            "The precision is  0.94\n",
            "\n",
            "The recall score is  1.0\n",
            "\n",
            "The F-1 score is  0.9690721649484536\n",
            "\n",
            "The accuracy is  0.94\n"
          ]
        }
      ]
    },
    {
      "cell_type": "code",
      "source": [
        "plt.figure(figsize=(8, 6))\n",
        "plt.plot(fpr, tpr, color='blue', lw=2, label='ROC curve (AUC = %0.2f)' % auc_roc)\n",
        "plt.plot([0, 1], [0, 1], color='red', linestyle='--', lw=2)\n",
        "plt.xlim([0.0, 1.0])\n",
        "plt.ylim([0.0, 1.05])\n",
        "plt.xlabel('False Positive Rate')\n",
        "plt.ylabel('True Positive Rate')\n",
        "plt.title('Receiver Operating Characteristic (ROC) Curve')\n",
        "plt.legend(loc=\"lower right\")\n",
        "plt.show()"
      ],
      "metadata": {
        "colab": {
          "base_uri": "https://localhost:8080/",
          "height": 564
        },
        "id": "WD_eRRmP9q7m",
        "outputId": "ba61305d-bdc9-4c76-a3f9-d439a07fd37f"
      },
      "execution_count": 31,
      "outputs": [
        {
          "output_type": "display_data",
          "data": {
            "text/plain": [
              "<Figure size 800x600 with 1 Axes>"
            ],
            "image/png": "[encoded data removed]"
          },
          "metadata": {}
        }
      ]
    },
    {
      "cell_type": "code",
      "source": [
        "!pip install scikit-learn"
      ],
      "metadata": {
        "colab": {
          "base_uri": "https://localhost:8080/"
        },
        "id": "Cx4Jqxw1AKD3",
        "outputId": "e1c78828-b55f-4971-e224-6d5831cac4ca"
      },
      "execution_count": 32,
      "outputs": [
        {
          "output_type": "stream",
          "name": "stdout",
          "text": [
            "Requirement already satisfied: scikit-learn in /usr/local/lib/python3.10/dist-packages (1.2.2)\n",
            "Requirement already satisfied: numpy>=1.17.3 in /usr/local/lib/python3.10/dist-packages (from scikit-learn) (1.25.2)\n",
            "Requirement already satisfied: scipy>=1.3.2 in /usr/local/lib/python3.10/dist-packages (from scikit-learn) (1.11.4)\n",
            "Requirement already satisfied: joblib>=1.1.1 in /usr/local/lib/python3.10/dist-packages (from scikit-learn) (1.3.2)\n",
            "Requirement already satisfied: threadpoolctl>=2.0.0 in /usr/local/lib/python3.10/dist-packages (from scikit-learn) (3.4.0)\n"
          ]
        }
      ]
    },
    {
      "cell_type": "code",
      "source": [
        "from imblearn.over_sampling import SMOTE"
      ],
      "metadata": {
        "id": "CodYZjt0mL3k"
      },
      "execution_count": 33,
      "outputs": []
    },
    {
      "cell_type": "code",
      "source": [
        "smote = SMOTE(sampling_strategy='auto', random_state=42)"
      ],
      "metadata": {
        "id": "0KyjNkrhmP6S"
      },
      "execution_count": 34,
      "outputs": []
    },
    {
      "cell_type": "code",
      "source": [
        "X_re, y_re = smote.fit_resample(X, y)"
      ],
      "metadata": {
        "id": "H19IgMnpmScE"
      },
      "execution_count": 35,
      "outputs": []
    },
    {
      "cell_type": "code",
      "source": [
        "param_grid = {\n",
        "    'n_estimators': [50, 100, 200],\n",
        "    'learning_rate': [0.01, 0.1, 0.5],\n",
        "    'max_depth': [3, 5, 7]\n",
        "}"
      ],
      "metadata": {
        "id": "gNyOqx70tE_Q"
      },
      "execution_count": 50,
      "outputs": []
    },
    {
      "cell_type": "code",
      "source": [
        "X_train_r, X_test_r, y_train_r, y_test_r = train_test_split(X_re, y_re, test_size = 0.2, random_state = 42)"
      ],
      "metadata": {
        "id": "QcX0uGyKmhQP"
      },
      "execution_count": 36,
      "outputs": []
    },
    {
      "cell_type": "code",
      "source": [
        "logit_model.fit(X_train_r,y_train_r)"
      ],
      "metadata": {
        "colab": {
          "base_uri": "https://localhost:8080/",
          "height": 75
        },
        "id": "_Wpxbr7JmtLs",
        "outputId": "d3cc85e3-771d-4fc4-a841-2a86e4c5ba71"
      },
      "execution_count": 38,
      "outputs": [
        {
          "output_type": "execute_result",
          "data": {
            "text/plain": [
              "LogisticRegression()"
            ],
            "text/html": [
              "<style>#sk-container-id-2 {color: black;background-color: white;}#sk-container-id-2 pre{padding: 0;}#sk-container-id-2 div.sk-toggleable {background-color: white;}#sk-container-id-2 label.sk-toggleable__label {cursor: pointer;display: block;width: 100%;margin-bottom: 0;padding: 0.3em;box-sizing: border-box;text-align: center;}#sk-container-id-2 label.sk-toggleable__label-arrow:before {content: \"▸\";float: left;margin-right: 0.25em;color: #696969;}#sk-container-id-2 label.sk-toggleable__label-arrow:hover:before {color: black;}#sk-container-id-2 div.sk-estimator:hover label.sk-toggleable__label-arrow:before {color: black;}#sk-container-id-2 div.sk-toggleable__content {max-height: 0;max-width: 0;overflow: hidden;text-align: left;background-color: #f0f8ff;}#sk-container-id-2 div.sk-toggleable__content pre {margin: 0.2em;color: black;border-radius: 0.25em;background-color: #f0f8ff;}#sk-container-id-2 input.sk-toggleable__control:checked~div.sk-toggleable__content {max-height: 200px;max-width: 100%;overflow: auto;}#sk-container-id-2 input.sk-toggleable__control:checked~label.sk-toggleable__label-arrow:before {content: \"▾\";}#sk-container-id-2 div.sk-estimator input.sk-toggleable__control:checked~label.sk-toggleable__label {background-color: #d4ebff;}#sk-container-id-2 div.sk-label input.sk-toggleable__control:checked~label.sk-toggleable__label {background-color: #d4ebff;}#sk-container-id-2 input.sk-hidden--visually {border: 0;clip: rect(1px 1px 1px 1px);clip: rect(1px, 1px, 1px, 1px);height: 1px;margin: -1px;overflow: hidden;padding: 0;position: absolute;width: 1px;}#sk-container-id-2 div.sk-estimator {font-family: monospace;background-color: #f0f8ff;border: 1px dotted black;border-radius: 0.25em;box-sizing: border-box;margin-bottom: 0.5em;}#sk-container-id-2 div.sk-estimator:hover {background-color: #d4ebff;}#sk-container-id-2 div.sk-parallel-item::after {content: \"\";width: 100%;border-bottom: 1px solid gray;flex-grow: 1;}#sk-container-id-2 div.sk-label:hover label.sk-toggleable__label {background-color: #d4ebff;}#sk-container-id-2 div.sk-serial::before {content: \"\";position: absolute;border-left: 1px solid gray;box-sizing: border-box;top: 0;bottom: 0;left: 50%;z-index: 0;}#sk-container-id-2 div.sk-serial {display: flex;flex-direction: column;align-items: center;background-color: white;padding-right: 0.2em;padding-left: 0.2em;position: relative;}#sk-container-id-2 div.sk-item {position: relative;z-index: 1;}#sk-container-id-2 div.sk-parallel {display: flex;align-items: stretch;justify-content: center;background-color: white;position: relative;}#sk-container-id-2 div.sk-item::before, #sk-container-id-2 div.sk-parallel-item::before {content: \"\";position: absolute;border-left: 1px solid gray;box-sizing: border-box;top: 0;bottom: 0;left: 50%;z-index: -1;}#sk-container-id-2 div.sk-parallel-item {display: flex;flex-direction: column;z-index: 1;position: relative;background-color: white;}#sk-container-id-2 div.sk-parallel-item:first-child::after {align-self: flex-end;width: 50%;}#sk-container-id-2 div.sk-parallel-item:last-child::after {align-self: flex-start;width: 50%;}#sk-container-id-2 div.sk-parallel-item:only-child::after {width: 0;}#sk-container-id-2 div.sk-dashed-wrapped {border: 1px dashed gray;margin: 0 0.4em 0.5em 0.4em;box-sizing: border-box;padding-bottom: 0.4em;background-color: white;}#sk-container-id-2 div.sk-label label {font-family: monospace;font-weight: bold;display: inline-block;line-height: 1.2em;}#sk-container-id-2 div.sk-label-container {text-align: center;}#sk-container-id-2 div.sk-container {/* jupyter's `normalize.less` sets `[hidden] { display: none; }` but bootstrap.min.css set `[hidden] { display: none !important; }` so we also need the `!important` here to be able to override the default hidden behavior on the sphinx rendered scikit-learn.org. See: https://github.com/scikit-learn/scikit-learn/issues/21755 */display: inline-block !important;position: relative;}#sk-container-id-2 div.sk-text-repr-fallback {display: none;}</style><div id=\"sk-container-id-2\" class=\"sk-top-container\"><div class=\"sk-text-repr-fallback\"><pre>LogisticRegression()</pre><b>In a Jupyter environment, please rerun this cell to show the HTML representation or trust the notebook. <br />On GitHub, the HTML representation is unable to render, please try loading this page with nbviewer.org.</b></div><div class=\"sk-container\" hidden><div class=\"sk-item\"><div class=\"sk-estimator sk-toggleable\"><input class=\"sk-toggleable__control sk-hidden--visually\" id=\"sk-estimator-id-2\" type=\"checkbox\" checked><label for=\"sk-estimator-id-2\" class=\"sk-toggleable__label sk-toggleable__label-arrow\">LogisticRegression</label><div class=\"sk-toggleable__content\"><pre>LogisticRegression()</pre></div></div></div></div></div>"
            ]
          },
          "metadata": {},
          "execution_count": 38
        }
      ]
    },
    {
      "cell_type": "code",
      "source": [
        "y_pred_r = logit_model.predict(X_test_r)"
      ],
      "metadata": {
        "id": "fozLoumTm0xJ"
      },
      "execution_count": 39,
      "outputs": []
    },
    {
      "cell_type": "code",
      "source": [
        "print(\"The confusion matrix is \\n\", confusion_matrix(y_test_r, y_pred_r))\n",
        "\n",
        "print(\"\\nThe precision is \", precision_score(y_test_r, y_pred_r))\n",
        "\n",
        "print(\"\\nThe recall score is \", recall_score(y_test_r, y_pred_r))\n",
        "\n",
        "print(\"\\nThe F-1 score is \", f1_score(y_test_r, y_pred_r))\n",
        "\n",
        "print(\"\\nThe accuracy is \", accuracy_score(y_test_r, y_pred_r))\n"
      ],
      "metadata": {
        "colab": {
          "base_uri": "https://localhost:8080/"
        },
        "id": "pn5unN70m8Wi",
        "outputId": "e0cda7cb-000c-4ef7-fec2-403bb908d7b5"
      },
      "execution_count": 40,
      "outputs": [
        {
          "output_type": "stream",
          "name": "stdout",
          "text": [
            "The confusion matrix is \n",
            " [[26 18]\n",
            " [15 25]]\n",
            "\n",
            "The precision is  0.5813953488372093\n",
            "\n",
            "The recall score is  0.625\n",
            "\n",
            "The F-1 score is  0.6024096385542168\n",
            "\n",
            "The accuracy is  0.6071428571428571\n"
          ]
        }
      ]
    },
    {
      "cell_type": "code",
      "source": [
        "true_count_r = y_re.sum()"
      ],
      "metadata": {
        "id": "Kucfd1yAnN_K"
      },
      "execution_count": 41,
      "outputs": []
    },
    {
      "cell_type": "code",
      "source": [
        "true_count_r"
      ],
      "metadata": {
        "colab": {
          "base_uri": "https://localhost:8080/"
        },
        "id": "RDJFUHIxnfSf",
        "outputId": "a42147b4-31cb-47c3-82b5-9194281aba7a"
      },
      "execution_count": 42,
      "outputs": [
        {
          "output_type": "execute_result",
          "data": {
            "text/plain": [
              "210"
            ]
          },
          "metadata": {},
          "execution_count": 42
        }
      ]
    },
    {
      "cell_type": "code",
      "source": [
        "len(y_re)"
      ],
      "metadata": {
        "colab": {
          "base_uri": "https://localhost:8080/"
        },
        "id": "d_KOicuing3g",
        "outputId": "7231e4e2-5f50-4ddd-f253-a8566bfb9697"
      },
      "execution_count": 43,
      "outputs": [
        {
          "output_type": "execute_result",
          "data": {
            "text/plain": [
              "420"
            ]
          },
          "metadata": {},
          "execution_count": 43
        }
      ]
    },
    {
      "cell_type": "code",
      "source": [
        "from sklearn.ensemble import GradientBoostingClassifier"
      ],
      "metadata": {
        "id": "VK5yGtFDnqKw"
      },
      "execution_count": 44,
      "outputs": []
    },
    {
      "cell_type": "code",
      "source": [
        "gb = GradientBoostingClassifier(random_state =42)"
      ],
      "metadata": {
        "id": "OZsA-k1koWIp"
      },
      "execution_count": 45,
      "outputs": []
    },
    {
      "cell_type": "code",
      "source": [
        "gb.fit(X_train_r,y_train_r)"
      ],
      "metadata": {
        "colab": {
          "base_uri": "https://localhost:8080/",
          "height": 75
        },
        "id": "6KvCNHyJoa6B",
        "outputId": "6204182d-c01d-4c0d-ae3a-731f37a01b1c"
      },
      "execution_count": 46,
      "outputs": [
        {
          "output_type": "execute_result",
          "data": {
            "text/plain": [
              "GradientBoostingClassifier(random_state=42)"
            ],
            "text/html": [
              "<style>#sk-container-id-3 {color: black;background-color: white;}#sk-container-id-3 pre{padding: 0;}#sk-container-id-3 div.sk-toggleable {background-color: white;}#sk-container-id-3 label.sk-toggleable__label {cursor: pointer;display: block;width: 100%;margin-bottom: 0;padding: 0.3em;box-sizing: border-box;text-align: center;}#sk-container-id-3 label.sk-toggleable__label-arrow:before {content: \"▸\";float: left;margin-right: 0.25em;color: #696969;}#sk-container-id-3 label.sk-toggleable__label-arrow:hover:before {color: black;}#sk-container-id-3 div.sk-estimator:hover label.sk-toggleable__label-arrow:before {color: black;}#sk-container-id-3 div.sk-toggleable__content {max-height: 0;max-width: 0;overflow: hidden;text-align: left;background-color: #f0f8ff;}#sk-container-id-3 div.sk-toggleable__content pre {margin: 0.2em;color: black;border-radius: 0.25em;background-color: #f0f8ff;}#sk-container-id-3 input.sk-toggleable__control:checked~div.sk-toggleable__content {max-height: 200px;max-width: 100%;overflow: auto;}#sk-container-id-3 input.sk-toggleable__control:checked~label.sk-toggleable__label-arrow:before {content: \"▾\";}#sk-container-id-3 div.sk-estimator input.sk-toggleable__control:checked~label.sk-toggleable__label {background-color: #d4ebff;}#sk-container-id-3 div.sk-label input.sk-toggleable__control:checked~label.sk-toggleable__label {background-color: #d4ebff;}#sk-container-id-3 input.sk-hidden--visually {border: 0;clip: rect(1px 1px 1px 1px);clip: rect(1px, 1px, 1px, 1px);height: 1px;margin: -1px;overflow: hidden;padding: 0;position: absolute;width: 1px;}#sk-container-id-3 div.sk-estimator {font-family: monospace;background-color: #f0f8ff;border: 1px dotted black;border-radius: 0.25em;box-sizing: border-box;margin-bottom: 0.5em;}#sk-container-id-3 div.sk-estimator:hover {background-color: #d4ebff;}#sk-container-id-3 div.sk-parallel-item::after {content: \"\";width: 100%;border-bottom: 1px solid gray;flex-grow: 1;}#sk-container-id-3 div.sk-label:hover label.sk-toggleable__label {background-color: #d4ebff;}#sk-container-id-3 div.sk-serial::before {content: \"\";position: absolute;border-left: 1px solid gray;box-sizing: border-box;top: 0;bottom: 0;left: 50%;z-index: 0;}#sk-container-id-3 div.sk-serial {display: flex;flex-direction: column;align-items: center;background-color: white;padding-right: 0.2em;padding-left: 0.2em;position: relative;}#sk-container-id-3 div.sk-item {position: relative;z-index: 1;}#sk-container-id-3 div.sk-parallel {display: flex;align-items: stretch;justify-content: center;background-color: white;position: relative;}#sk-container-id-3 div.sk-item::before, #sk-container-id-3 div.sk-parallel-item::before {content: \"\";position: absolute;border-left: 1px solid gray;box-sizing: border-box;top: 0;bottom: 0;left: 50%;z-index: -1;}#sk-container-id-3 div.sk-parallel-item {display: flex;flex-direction: column;z-index: 1;position: relative;background-color: white;}#sk-container-id-3 div.sk-parallel-item:first-child::after {align-self: flex-end;width: 50%;}#sk-container-id-3 div.sk-parallel-item:last-child::after {align-self: flex-start;width: 50%;}#sk-container-id-3 div.sk-parallel-item:only-child::after {width: 0;}#sk-container-id-3 div.sk-dashed-wrapped {border: 1px dashed gray;margin: 0 0.4em 0.5em 0.4em;box-sizing: border-box;padding-bottom: 0.4em;background-color: white;}#sk-container-id-3 div.sk-label label {font-family: monospace;font-weight: bold;display: inline-block;line-height: 1.2em;}#sk-container-id-3 div.sk-label-container {text-align: center;}#sk-container-id-3 div.sk-container {/* jupyter's `normalize.less` sets `[hidden] { display: none; }` but bootstrap.min.css set `[hidden] { display: none !important; }` so we also need the `!important` here to be able to override the default hidden behavior on the sphinx rendered scikit-learn.org. See: https://github.com/scikit-learn/scikit-learn/issues/21755 */display: inline-block !important;position: relative;}#sk-container-id-3 div.sk-text-repr-fallback {display: none;}</style><div id=\"sk-container-id-3\" class=\"sk-top-container\"><div class=\"sk-text-repr-fallback\"><pre>GradientBoostingClassifier(random_state=42)</pre><b>In a Jupyter environment, please rerun this cell to show the HTML representation or trust the notebook. <br />On GitHub, the HTML representation is unable to render, please try loading this page with nbviewer.org.</b></div><div class=\"sk-container\" hidden><div class=\"sk-item\"><div class=\"sk-estimator sk-toggleable\"><input class=\"sk-toggleable__control sk-hidden--visually\" id=\"sk-estimator-id-3\" type=\"checkbox\" checked><label for=\"sk-estimator-id-3\" class=\"sk-toggleable__label sk-toggleable__label-arrow\">GradientBoostingClassifier</label><div class=\"sk-toggleable__content\"><pre>GradientBoostingClassifier(random_state=42)</pre></div></div></div></div></div>"
            ]
          },
          "metadata": {},
          "execution_count": 46
        }
      ]
    },
    {
      "cell_type": "code",
      "source": [
        "y_gb_pred = gb.predict(X_test_r)"
      ],
      "metadata": {
        "id": "oqSsr2QIog5V"
      },
      "execution_count": 47,
      "outputs": []
    },
    {
      "cell_type": "code",
      "source": [
        "print(\"The confusion matrix is \\n\", confusion_matrix(y_test_r, y_gb_pred))\n",
        "\n",
        "print(\"\\nThe precision is \", precision_score(y_test_r, y_gb_pred))\n",
        "\n",
        "print(\"\\nThe recall score is \", recall_score(y_test_r, y_gb_pred))\n",
        "\n",
        "print(\"\\nThe F-1 score is \", f1_score(y_test_r, y_gb_pred))\n",
        "\n",
        "print(\"\\nThe accuracy is \", accuracy_score(y_test_r, y_gb_pred))\n"
      ],
      "metadata": {
        "colab": {
          "base_uri": "https://localhost:8080/"
        },
        "id": "gTtGcMrponQF",
        "outputId": "35bcf84e-ad7f-42eb-e23d-d3b9bef9023f"
      },
      "execution_count": 48,
      "outputs": [
        {
          "output_type": "stream",
          "name": "stdout",
          "text": [
            "The confusion matrix is \n",
            " [[38  6]\n",
            " [ 9 31]]\n",
            "\n",
            "The precision is  0.8378378378378378\n",
            "\n",
            "The recall score is  0.775\n",
            "\n",
            "The F-1 score is  0.8051948051948051\n",
            "\n",
            "The accuracy is  0.8214285714285714\n"
          ]
        }
      ]
    },
    {
      "cell_type": "code",
      "source": [
        "from sklearn.model_selection import train_test_split, GridSearchCV"
      ],
      "metadata": {
        "id": "z7bNfZD7ozTN"
      },
      "execution_count": 49,
      "outputs": []
    },
    {
      "cell_type": "code",
      "source": [
        "grid_search = GridSearchCV(estimator=gb, param_grid=param_grid, cv=5, scoring='recall')"
      ],
      "metadata": {
        "id": "jSV97tNrs_QZ"
      },
      "execution_count": 62,
      "outputs": []
    },
    {
      "cell_type": "code",
      "source": [
        "grid_search.fit(X_train_r, y_train_r)"
      ],
      "metadata": {
        "colab": {
          "base_uri": "https://localhost:8080/",
          "height": 118
        },
        "id": "yHSQX8RatPER",
        "outputId": "3f821a75-6a4a-481f-e310-7b43b370f849"
      },
      "execution_count": 63,
      "outputs": [
        {
          "output_type": "execute_result",
          "data": {
            "text/plain": [
              "GridSearchCV(cv=5, estimator=GradientBoostingClassifier(random_state=42),\n",
              "             param_grid={'learning_rate': [0.01, 0.1, 0.5],\n",
              "                         'max_depth': [3, 5, 7],\n",
              "                         'n_estimators': [50, 100, 200]},\n",
              "             scoring='recall')"
            ],
            "text/html": [
              "<style>#sk-container-id-6 {color: black;background-color: white;}#sk-container-id-6 pre{padding: 0;}#sk-container-id-6 div.sk-toggleable {background-color: white;}#sk-container-id-6 label.sk-toggleable__label {cursor: pointer;display: block;width: 100%;margin-bottom: 0;padding: 0.3em;box-sizing: border-box;text-align: center;}#sk-container-id-6 label.sk-toggleable__label-arrow:before {content: \"▸\";float: left;margin-right: 0.25em;color: #696969;}#sk-container-id-6 label.sk-toggleable__label-arrow:hover:before {color: black;}#sk-container-id-6 div.sk-estimator:hover label.sk-toggleable__label-arrow:before {color: black;}#sk-container-id-6 div.sk-toggleable__content {max-height: 0;max-width: 0;overflow: hidden;text-align: left;background-color: #f0f8ff;}#sk-container-id-6 div.sk-toggleable__content pre {margin: 0.2em;color: black;border-radius: 0.25em;background-color: #f0f8ff;}#sk-container-id-6 input.sk-toggleable__control:checked~div.sk-toggleable__content {max-height: 200px;max-width: 100%;overflow: auto;}#sk-container-id-6 input.sk-toggleable__control:checked~label.sk-toggleable__label-arrow:before {content: \"▾\";}#sk-container-id-6 div.sk-estimator input.sk-toggleable__control:checked~label.sk-toggleable__label {background-color: #d4ebff;}#sk-container-id-6 div.sk-label input.sk-toggleable__control:checked~label.sk-toggleable__label {background-color: #d4ebff;}#sk-container-id-6 input.sk-hidden--visually {border: 0;clip: rect(1px 1px 1px 1px);clip: rect(1px, 1px, 1px, 1px);height: 1px;margin: -1px;overflow: hidden;padding: 0;position: absolute;width: 1px;}#sk-container-id-6 div.sk-estimator {font-family: monospace;background-color: #f0f8ff;border: 1px dotted black;border-radius: 0.25em;box-sizing: border-box;margin-bottom: 0.5em;}#sk-container-id-6 div.sk-estimator:hover {background-color: #d4ebff;}#sk-container-id-6 div.sk-parallel-item::after {content: \"\";width: 100%;border-bottom: 1px solid gray;flex-grow: 1;}#sk-container-id-6 div.sk-label:hover label.sk-toggleable__label {background-color: #d4ebff;}#sk-container-id-6 div.sk-serial::before {content: \"\";position: absolute;border-left: 1px solid gray;box-sizing: border-box;top: 0;bottom: 0;left: 50%;z-index: 0;}#sk-container-id-6 div.sk-serial {display: flex;flex-direction: column;align-items: center;background-color: white;padding-right: 0.2em;padding-left: 0.2em;position: relative;}#sk-container-id-6 div.sk-item {position: relative;z-index: 1;}#sk-container-id-6 div.sk-parallel {display: flex;align-items: stretch;justify-content: center;background-color: white;position: relative;}#sk-container-id-6 div.sk-item::before, #sk-container-id-6 div.sk-parallel-item::before {content: \"\";position: absolute;border-left: 1px solid gray;box-sizing: border-box;top: 0;bottom: 0;left: 50%;z-index: -1;}#sk-container-id-6 div.sk-parallel-item {display: flex;flex-direction: column;z-index: 1;position: relative;background-color: white;}#sk-container-id-6 div.sk-parallel-item:first-child::after {align-self: flex-end;width: 50%;}#sk-container-id-6 div.sk-parallel-item:last-child::after {align-self: flex-start;width: 50%;}#sk-container-id-6 div.sk-parallel-item:only-child::after {width: 0;}#sk-container-id-6 div.sk-dashed-wrapped {border: 1px dashed gray;margin: 0 0.4em 0.5em 0.4em;box-sizing: border-box;padding-bottom: 0.4em;background-color: white;}#sk-container-id-6 div.sk-label label {font-family: monospace;font-weight: bold;display: inline-block;line-height: 1.2em;}#sk-container-id-6 div.sk-label-container {text-align: center;}#sk-container-id-6 div.sk-container {/* jupyter's `normalize.less` sets `[hidden] { display: none; }` but bootstrap.min.css set `[hidden] { display: none !important; }` so we also need the `!important` here to be able to override the default hidden behavior on the sphinx rendered scikit-learn.org. See: https://github.com/scikit-learn/scikit-learn/issues/21755 */display: inline-block !important;position: relative;}#sk-container-id-6 div.sk-text-repr-fallback {display: none;}</style><div id=\"sk-container-id-6\" class=\"sk-top-container\"><div class=\"sk-text-repr-fallback\"><pre>GridSearchCV(cv=5, estimator=GradientBoostingClassifier(random_state=42),\n",
              "             param_grid={&#x27;learning_rate&#x27;: [0.01, 0.1, 0.5],\n",
              "                         &#x27;max_depth&#x27;: [3, 5, 7],\n",
              "                         &#x27;n_estimators&#x27;: [50, 100, 200]},\n",
              "             scoring=&#x27;recall&#x27;)</pre><b>In a Jupyter environment, please rerun this cell to show the HTML representation or trust the notebook. <br />On GitHub, the HTML representation is unable to render, please try loading this page with nbviewer.org.</b></div><div class=\"sk-container\" hidden><div class=\"sk-item sk-dashed-wrapped\"><div class=\"sk-label-container\"><div class=\"sk-label sk-toggleable\"><input class=\"sk-toggleable__control sk-hidden--visually\" id=\"sk-estimator-id-10\" type=\"checkbox\" ><label for=\"sk-estimator-id-10\" class=\"sk-toggleable__label sk-toggleable__label-arrow\">GridSearchCV</label><div class=\"sk-toggleable__content\"><pre>GridSearchCV(cv=5, estimator=GradientBoostingClassifier(random_state=42),\n",
              "             param_grid={&#x27;learning_rate&#x27;: [0.01, 0.1, 0.5],\n",
              "                         &#x27;max_depth&#x27;: [3, 5, 7],\n",
              "                         &#x27;n_estimators&#x27;: [50, 100, 200]},\n",
              "             scoring=&#x27;recall&#x27;)</pre></div></div></div><div class=\"sk-parallel\"><div class=\"sk-parallel-item\"><div class=\"sk-item\"><div class=\"sk-label-container\"><div class=\"sk-label sk-toggleable\"><input class=\"sk-toggleable__control sk-hidden--visually\" id=\"sk-estimator-id-11\" type=\"checkbox\" ><label for=\"sk-estimator-id-11\" class=\"sk-toggleable__label sk-toggleable__label-arrow\">estimator: GradientBoostingClassifier</label><div class=\"sk-toggleable__content\"><pre>GradientBoostingClassifier(random_state=42)</pre></div></div></div><div class=\"sk-serial\"><div class=\"sk-item\"><div class=\"sk-estimator sk-toggleable\"><input class=\"sk-toggleable__control sk-hidden--visually\" id=\"sk-estimator-id-12\" type=\"checkbox\" ><label for=\"sk-estimator-id-12\" class=\"sk-toggleable__label sk-toggleable__label-arrow\">GradientBoostingClassifier</label><div class=\"sk-toggleable__content\"><pre>GradientBoostingClassifier(random_state=42)</pre></div></div></div></div></div></div></div></div></div></div>"
            ]
          },
          "metadata": {},
          "execution_count": 63
        }
      ]
    },
    {
      "cell_type": "code",
      "source": [
        "best_gb = grid_search.best_estimator_"
      ],
      "metadata": {
        "id": "n3nyKf_AtZF8"
      },
      "execution_count": 64,
      "outputs": []
    },
    {
      "cell_type": "code",
      "source": [
        "y_pred_hp = best_gb.predict(X_test_r)"
      ],
      "metadata": {
        "id": "5Fh11wJ6tkU9"
      },
      "execution_count": 65,
      "outputs": []
    },
    {
      "cell_type": "code",
      "source": [
        "print(\"The confusion matrix is \\n\", confusion_matrix(y_test_r, y_pred_hp))\n",
        "\n",
        "print(\"\\nThe precision is \", precision_score(y_test_r, y_pred_hp))\n",
        "\n",
        "print(\"\\nThe recall score is \", recall_score(y_test_r, y_pred_hp))\n",
        "\n",
        "print(\"\\nThe F-1 score is \", f1_score(y_test_r, y_pred_hp))\n",
        "\n",
        "print(\"\\nThe accuracy is \", accuracy_score(y_test_r, y_pred_hp))"
      ],
      "metadata": {
        "colab": {
          "base_uri": "https://localhost:8080/"
        },
        "id": "GgChC_Z_tqgt",
        "outputId": "8c89bea7-24ee-47ae-8533-f2d55cc31c07"
      },
      "execution_count": 66,
      "outputs": [
        {
          "output_type": "stream",
          "name": "stdout",
          "text": [
            "The confusion matrix is \n",
            " [[39  5]\n",
            " [ 8 32]]\n",
            "\n",
            "The precision is  0.8648648648648649\n",
            "\n",
            "The recall score is  0.8\n",
            "\n",
            "The F-1 score is  0.8311688311688312\n",
            "\n",
            "The accuracy is  0.8452380952380952\n"
          ]
        }
      ]
    },
    {
      "cell_type": "code",
      "source": [],
      "metadata": {
        "id": "NO5C_Z_Ot1Tf"
      },
      "execution_count": null,
      "outputs": []
    }
  ]
}